{
 "cells": [
  {
   "cell_type": "markdown",
   "metadata": {},
   "source": [
    "# HW4 – Statistics and Data Analysis\n",
    "### Differential Gene Expression in Acute Myocardial Infraction "
   ]
  },
  {
   "cell_type": "markdown",
   "metadata": {},
   "source": [
    "<center> \n",
    "    Student IDs: 204818181, 329827190\n",
    "    </center>"
   ]
  },
  {
   "cell_type": "markdown",
   "metadata": {},
   "source": [
    "## Introduction"
   ]
  },
  {
   "cell_type": "markdown",
   "metadata": {},
   "source": [
    "Gene expression describes the process in which genes that are coded in the DNA of living organisms are transcribed into mRNA. This is part of the bigger process in which genes are being copied (transcribed), processed, translated and modified into the final product, usually a protein. Gene expression profiling measures the levels at which mRNA molecules pertaining to the genes profiled are observed in a sample.\n",
    "In this exercise, we will perform guided analysis, comparing expression profiles of circulating endothelial cells (CECs) in patients with acute myocardial infraction to CECs in healthy controls. A comparison of two sample classes. You will then select one more gene expression dataset and perform your own analysis there.\n"
   ]
  },
  {
   "cell_type": "markdown",
   "metadata": {},
   "source": [
    "## Data"
   ]
  },
  {
   "cell_type": "markdown",
   "metadata": {},
   "source": [
    "The data set was taken from:\n",
    "\n",
    "1)\tDataset record in NCBI:\n",
    "https://www.ncbi.nlm.nih.gov/geo/query/acc.cgi?acc=GSE66360\n",
    "\n",
    "2)\tPublished paper: Muse et al, Sci Rep 2017 https://www.nature.com/articles/s41598-017-12166-0\n",
    "\n",
    "We extracted the data matrix and provide it as a separate csv attachment (link to download - https://drive.google.com/file/d/1-mu1J2wnlDIVNzoCXw20jJQ9r-h1jGrZ/view ). The csv file needs to be pre-processed before moving to the main analysis steps. Some information should be removed but make sure that you keep all information that is important for the analysis.\n",
    "The paper describes a study that seeks to develop an expression-based signature that can detect AMI in patients in a non-invasive manner, by profiling CECs. \n"
   ]
  },
  {
   "cell_type": "markdown",
   "metadata": {},
   "source": [
    "## Analysis"
   ]
  },
  {
   "cell_type": "markdown",
   "metadata": {},
   "source": [
    "### A.\tHigh level description of the data and some pre-processing\n",
    "1)\tHow many genes profiled? \n",
    "\n",
    "2)\tHow many samples (subjects/patients) in total?\n",
    "\n",
    "3)\tHow many samples in each class?\n",
    "\n",
    "4)\tIf there are missing values, then remove the entire row (gene) from the data matrix.How many rows left now?"
   ]
  },
  {
   "cell_type": "code",
   "execution_count": null,
   "metadata": {},
   "outputs": [],
   "source": []
  },
  {
   "cell_type": "markdown",
   "metadata": {},
   "source": [
    "### B.\tWRS for differential expression (DE)\n",
    "\n",
    "1)\tConsider some gene, g. Under the null model (which assumes that for g there is no M vs H DE), what is the expected sum of ranks of g’s expression levels measured for samples labeled M?\n",
    "\n",
    "2)\tDenote this sum of ranks by RS(g). What is the minimal value, m, that RS(g) can take?\n",
    "\n",
    "3)\tUnder the null model, what is the probability of RS(g) = m? \n",
    "(provide a formula for this and explain it)\n",
    "\n",
    "4)\tUnder the null model, what is the probability of RS(g) = m+1? what is the probability of RS(g) = m+2? \n",
    "(provide formulas and explain them)\n",
    "\n",
    "5)\tDraw a histogram of the values of RS(g) in the dataset. Here g ranges over all genes in the data (after the clean-up)\n"
   ]
  },
  {
   "cell_type": "code",
   "execution_count": null,
   "metadata": {},
   "outputs": [],
   "source": []
  },
  {
   "cell_type": "markdown",
   "metadata": {},
   "source": [
    "### C. Differential Expression\n",
    "The purpose is to determine the statistical significance of differential expression (DE) observed for each gene in H vs M.\n",
    "Evaluate the DE in both one-sided directions for every gene, using both Student t-test and WRS test. \n",
    "Report the number of genes overexpressed in M vs H at a p-value better (≤) than 0.05 and separately genes underexpressed in M vs H at a p-value of 0.05. For both directions use both a Student t-test and a WRS test.\n",
    "\n"
   ]
  },
  {
   "cell_type": "code",
   "execution_count": null,
   "metadata": {},
   "outputs": [],
   "source": []
  },
  {
   "cell_type": "markdown",
   "metadata": {},
   "source": [
    "### D.\tCorrelations\n",
    "Select the 60 most significant genes from each one of the one-sided WRS DE lists you computed in 3c. Generate a set of 120 genes, D, which is the union of the above two sets.\n",
    "Compute Spearman rho correlations in all pairs within D (120 choose 2 numbers). \n",
    "\n",
    "1)\tWhat can you report about co-expression of genes in D (co-expression is inferred from the correlation of the expression levels of genes, across a set of samples)? Do we observe any significant co-expression? If so how many pairs, etc.\n",
    "\n",
    "2)\tWhat would have been advantages and disadvantages of computing co-expression for all genes in the study rather than only for genes in D? \n",
    "\n",
    "\n",
    "3)\tPerform the above steps on the same set D, but restrict attention only to samples labeled M. What do you see now? Can you explain this?\n"
   ]
  },
  {
   "cell_type": "code",
   "execution_count": null,
   "metadata": {},
   "outputs": [],
   "source": []
  },
  {
   "cell_type": "markdown",
   "metadata": {},
   "source": [
    "### E.\tPlots and Conclusions of the DE and correlation analysis\n",
    "\n",
    "1)\tConstruct the DE overabundance plots (blue and green lines as shown in class) for M vs H overexpression (higher expression levels in M) using WRS and t-test using the results you had computed in Section 3c. \n",
    "State, for each comparison, the number of genes, k, at which we observe:\n",
    "\n",
    "     a)\tFDR = 0.1\n",
    "     b)\tFDR = 0.05\n",
    "     c)\tFDR = 0.001\n",
    "\n",
    "If these events are not observed at any k, then make that statement.\n",
    "\n",
    "2)\tWhat can you say about the difference in results obtained in WRS vs those obtained by Student t-test?\n",
    "\n",
    "3)\tSelect any 3 differentially expressed genes, from D (which was defined in 3d), and produce a graphical representation of their expression patterns that demonstrates the observed DE.\n",
    "\n",
    "4)\tHeatmap - Draw a heatmap representation of the expression values of the genes in D (from 3d), across the entire cohort (all samples). Order the genes and the samples to produce the maximal visual effect.\n"
   ]
  },
  {
   "cell_type": "code",
   "execution_count": null,
   "metadata": {},
   "outputs": [],
   "source": []
  },
  {
   "cell_type": "code",
   "execution_count": null,
   "metadata": {},
   "outputs": [],
   "source": []
  }
 ],
 "metadata": {
  "kernelspec": {
   "display_name": "Python 3",
   "language": "python",
   "name": "python3"
  },
  "language_info": {
   "codemirror_mode": {
    "name": "ipython",
    "version": 3
   },
   "file_extension": ".py",
   "mimetype": "text/x-python",
   "name": "python",
   "nbconvert_exporter": "python",
   "pygments_lexer": "ipython3",
   "version": "3.7.4"
  }
 },
 "nbformat": 4,
 "nbformat_minor": 2
}
