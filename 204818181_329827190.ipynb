{
 "cells": [
  {
   "cell_type": "markdown",
   "metadata": {},
   "source": [
    "### IDs:\n",
    "Insert yours IDs to the cell below"
   ]
  },
  {
   "cell_type": "markdown",
   "metadata": {},
   "source": [
    "ID #1:329827190\n",
    "\n",
    "ID #2:204818181\n"
   ]
  },
  {
   "cell_type": "markdown",
   "metadata": {},
   "source": [
    "## Read the following instructions carefully:\n",
    "\n",
    "1. This jupyter notebook contains all the step by step instructions needed for this exercise.\n",
    "1. You are free to add cells.\n",
    "1. Write your functions and your answers in this jupyter notebook only.\n",
    "1. Answers to theoretical questions should be written in **markdown cells (with $\\LaTeX$ support)**.\n",
    "1. Submit this jupyter notebook only using your ID as a filename. Not to use ZIP or RAR. For example, your Moodle submission file name should look like this (two id numbers): `123456789_987654321.ipynb`."
   ]
  },
  {
   "cell_type": "code",
   "execution_count": 70,
   "metadata": {},
   "outputs": [],
   "source": [
    "from scipy import stats \n",
    "import pandas as pd\n",
    "import matplotlib.pyplot as plt\n",
    "import numpy as np\n",
    "from random import randrange\n",
    "from itertools import product\n",
    "from IPython.display import display, Math, Latex\n",
    "\n",
    "%matplotlib inline"
   ]
  },
  {
   "cell_type": "markdown",
   "metadata": {},
   "source": [
    "### Question 1 - Defective products"
   ]
  },
  {
   "cell_type": "markdown",
   "metadata": {},
   "source": [
    "In a manufacturing pipeline products are 1% defective. We are interested in examining a defective product to see what goes wrong on the belt. We need to ask the facility manager to send us a set of independent samples for examination."
   ]
  },
  {
   "cell_type": "markdown",
   "metadata": {},
   "source": [
    "#### 1.A\n",
    "\n",
    "How many independent samples should we ask for in order to have a 75% probability of having at least one defective product in the batch sent?\n",
    "Write a function that computes this."
   ]
  },
  {
   "cell_type": "markdown",
   "metadata": {},
   "source": [
    "***Answer:***"
   ]
  },
  {
   "cell_type": "code",
   "execution_count": 2,
   "metadata": {},
   "outputs": [
    {
     "name": "stdout",
     "output_type": "stream",
     "text": [
      "Num Trials Required: 138\n"
     ]
    }
   ],
   "source": [
    "# Notice that this is a Binomial distribution where p = 0.01. \n",
    "# We will find the number of samples required by finding the probability by increasing n\n",
    "# until we get the desired probability\n",
    "\n",
    "def find_n_bin(prob_req, p, k):\n",
    "    n = 0\n",
    "    while True:\n",
    "        Y = stats.binom(n,p)\n",
    "        res = 0\n",
    "        for i in range (0,k+1):\n",
    "            res += Y.pmf(i)\n",
    "        prob = 1 - res\n",
    "        if prob > prob_req:\n",
    "            return (\"Num Trials Required: {}\".format(n))\n",
    "        n += 1\n",
    "        \n",
    "\n",
    "print(find_n_bin(0.75, 0.01, 0))"
   ]
  },
  {
   "cell_type": "markdown",
   "metadata": {},
   "source": [
    "#### Answer the same question but where:\n",
    "#### 1.B.1 \n",
    "Products are 4% defective and we want a 95% probability of at least one defective product in the batch"
   ]
  },
  {
   "cell_type": "markdown",
   "metadata": {},
   "source": [
    "***Answer:***"
   ]
  },
  {
   "cell_type": "code",
   "execution_count": 3,
   "metadata": {},
   "outputs": [
    {
     "name": "stdout",
     "output_type": "stream",
     "text": [
      "Num Trials Required: 74\n"
     ]
    }
   ],
   "source": [
    "# Using the same function defined above, simply modifing the input arguments to fit the given problem\n",
    "\n",
    "print(find_n_bin(0.95, 0.04, 0))"
   ]
  },
  {
   "cell_type": "markdown",
   "metadata": {},
   "source": [
    "#### 1.B.2\n",
    "Products are 10% defective and we want a 90% probability of at least 5 defective products in the batch"
   ]
  },
  {
   "cell_type": "markdown",
   "metadata": {},
   "source": [
    "***Answer:***"
   ]
  },
  {
   "cell_type": "code",
   "execution_count": 4,
   "metadata": {},
   "outputs": [
    {
     "name": "stdout",
     "output_type": "stream",
     "text": [
      "Num Trials Required: 78\n"
     ]
    }
   ],
   "source": [
    "# Using the original find_n that was constructed\n",
    "\n",
    "print(find_n_bin(0.9, 0.1, 4))"
   ]
  },
  {
   "cell_type": "markdown",
   "metadata": {},
   "source": [
    "#### 1.B.3\n",
    "Products are 20% defective and we want a 90% probability of at least 10 defective products in the batch"
   ]
  },
  {
   "cell_type": "markdown",
   "metadata": {},
   "source": [
    "***Answer:***"
   ]
  },
  {
   "cell_type": "code",
   "execution_count": 5,
   "metadata": {},
   "outputs": [
    {
     "name": "stdout",
     "output_type": "stream",
     "text": [
      "Num Trials Required: 69\n"
     ]
    }
   ],
   "source": [
    "# Using the same function as above with different values\n",
    "\n",
    "print(find_n_bin(0.9, 0.2, 9))"
   ]
  },
  {
   "cell_type": "markdown",
   "metadata": {},
   "source": [
    "#### 1.C\n",
    "Can you comment on the difference between the answer 1.B.2 and that of 1.B.3?"
   ]
  },
  {
   "cell_type": "markdown",
   "metadata": {},
   "source": [
    "***Answer:***\n",
    "\n",
    "The difference between the answers is counter intuitive:\n",
    "In general, we expect to need more trials to observe more defects. We might even expect the number of trials to be\n",
    "the some once we notice that we have twice the probability of defect, and half the number of desired defects.\n",
    "However, neither were the case: 78 trials for at least 5 defects, and 69 trials for twice as many (10) defects.\n",
    "\n"
   ]
  },
  {
   "cell_type": "markdown",
   "metadata": {},
   "source": [
    "### Question 2 - Formula"
   ]
  },
  {
   "cell_type": "markdown",
   "metadata": {},
   "source": [
    "#### 2.A\n",
    "Prove (you can use what you learned in class. In particular - linearity of variance for independent random variables):"
   ]
  },
  {
   "cell_type": "markdown",
   "metadata": {},
   "source": [
    "$$g(n,p) = \\sum_{k=0}^{n} {n \\choose k} k^2 p^k (1-p)^{(n-k)} = np\\big(1+p(n-1)\\big)$$"
   ]
  },
  {
   "cell_type": "markdown",
   "metadata": {},
   "source": [
    "***Answer:***"
   ]
  },
  {
   "cell_type": "markdown",
   "metadata": {},
   "source": [
    "Note that the given equation $$g(n,p) = \\sum_{k=0}^{n} {n \\choose k} k^2 p^k (1-p)^{(n-k)} = (E[X^2])$$\n",
    "\n",
    "Also recall from class that: $$V[X] = E[X^2] - (E[X])^2$$\n",
    "and that $$V[X] = np(1-p)$$\n",
    "and that $$E[X] = np$$\n",
    "and so, $$(E[X])^2 = (np)^2$$\n",
    "\n",
    "So we have \n",
    "\n",
    "$$E[X^2] =  V[X] + (E[X])^2$$\n",
    "$$= np(1-p) + (np)^2$$\n",
    "$$= np((1-p)+(np)) $$\n",
    "$$= np(1 - p + np) $$\n",
    "$$= np(1 + np - p) $$\n",
    "$$= np(1 + p(n - 1)) $$\n"
   ]
  },
  {
   "cell_type": "markdown",
   "metadata": {},
   "source": [
    "#### 2.B\n",
    "Use this formula to compute  (n = 5000, p = 0.1, 0.2, 0.3). What is the complexity of this calculation, in terms of n?"
   ]
  },
  {
   "cell_type": "markdown",
   "metadata": {},
   "source": [
    "***Answer:***"
   ]
  },
  {
   "cell_type": "code",
   "execution_count": 6,
   "metadata": {},
   "outputs": [
    {
     "name": "stdout",
     "output_type": "stream",
     "text": [
      " p = 0.1 : 250450 \n",
      " p = 0.2 : 1000800 \n",
      " p = 0.3 : 2251050 \n"
     ]
    }
   ],
   "source": [
    "prob_list = [0.1,0.2,0.3]\n",
    "for p in prob_list:\n",
    "    res = 5000*p*(1+p*(5000-1))\n",
    "    print (' p = {} : {} '.format(p,int(res)))\n"
   ]
  },
  {
   "cell_type": "markdown",
   "metadata": {},
   "source": [
    "As $n$ is a constant in this computation, we compute the complexity as $O(5000) \\in O(1)$"
   ]
  },
  {
   "cell_type": "markdown",
   "metadata": {},
   "source": [
    "#### 2.C\n",
    "Consider the function:\n",
    "$$f(n,p) = \\sum_{k=0}^{n} {n \\choose k} k^3 p^k (1-p)^{(n-k)}$$\n",
    "\n",
    "Describe how $f(n,p)$ can be computed using a process that requires a constant number of multiplications and additions, regardless of n.\n",
    "Use your process to compute the values of $f(n=10000, p=0.05, 0.1, 0.2, 0.3)$ in O(1).<br>\n",
    "Explain all your steps. \n",
    " "
   ]
  },
  {
   "cell_type": "markdown",
   "metadata": {},
   "source": [
    "***Answer:***\n",
    "\n",
    "Note that that $f(n,p)$ is the third raw moment for $X$ ~ $Bin(n,p)$\n",
    "\n",
    "The raw moment is formally defined as $\\mu_{3}^{'} = \\int_{-\\infty}^{+\\infty} x^{3} f(x)dx $ and the central moment is formally defined as $\\mu_{3} = \\int_{-\\infty}^{+\\infty} (x-\\mu)^{3} f(x) dx$ \n",
    "\n",
    "Recall that in lecture 4, we saw that the cental third moment of a random variable $X$ where $X~Bin(n,p)$ equals $np(1-p)(1-2p)$\n",
    "\n",
    "By the formal definition \n",
    "$$np(1-p)(1-2p) = \\mathbf{E}((X-\\mu_{x})^{3})$$\n",
    "\n",
    "As $\\mathbf{E}(\\mu_{x}) = np$, \n",
    "\n",
    "$$ = \\mathbf{E}((X-np)^{3})$$\n",
    "$$ = \\mathbf{E}(X^{3} - 3X^{2}(np)+3X(np)^{2} - (np)^{3}) $$\n",
    "$$ = \\mathbf{E}(X^{3}) - \\mathbf{E}(3X^{2}(np)) + \\mathbf{E}(3X(np)^{2}) - \\mathbf{E}(np)^{3}) $$\n",
    "$$ = \\mathbf{E}(X^{3}) - 3(np)\\mathbf{E}(X^{2}) + 3(np)^{2}\\mathbf{E}(X) - (np)^{3} $$\n",
    "\n",
    "So we get that\n",
    "\n",
    "$$np(1-p)(1-2p) = \\mathbf{E}(X^{3}) - 3(np)\\mathbf{E}(X^{2}) + 3(np)^{2}\\mathbf{E}(X) - (np)^{3} $$\n",
    "$$- \\mathbf{E}(X^{3}) = -np(1-p)(1-2p) - 3(np)\\mathbf{E}(X^{2}) + 3(np)^{2}\\mathbf{E}(X) - (np)^{3} $$\n",
    "$$ \\mathbf{E}(X^{3}) = np(1-p)(1-2p) + 3(np)\\mathbf{E}(X^{2}) - 3(np)^{2}\\mathbf{E}(X) + (np)^{3} $$\n",
    "\n",
    "As $ \\mathbf{E}(X^{1}) = np $ and $ \\mathbf{E}(X^{2}) = np(1+p(n-1)) $\n",
    "\n",
    "$$ \\mathbf{E}(X^{3}) = np(1-p)(1-2p) + 3(np)(np(1+p(n-1))) - 3(np)^{2}(np) + (np)^{3} $$\n",
    "$$ \\mathbf{E}(X^{3}) = np(1-p)(1-2p) + 3(np)(np(1+p(n-1))) - 3(np)^{3} + (np)^{3} $$\n",
    "$$ \\mathbf{E}(X^{3}) = np(1-p)(1-2p) + 3(np)(np(1+p(n-1))) - 2(np)^{3}$$\n",
    "$$ \\mathbf{E}(X^{3}) = (np - np^{2})(1-2p) + 3(n^{2}p^{2}(1+p(n-1))) - 2(np)^{3}$$\n",
    "$$ \\mathbf{E}(X^{3}) = (np - np^{2})(1-2p) + 3(n^{2}p^{2}+n^{2}p^{3}(n-1)) - 2(np)^{3}$$\n",
    "$$ \\mathbf{E}(X^{3}) = (np - np^{2})(1-2p) + 3(n^{2}p^{2}+n^{3}p^{3}-n^{2}p^{3}) - 2(np)^{3}$$\n",
    "$$ \\mathbf{E}(X^{3}) = np - 2np^{2} - np^{2} + 2np^{3} + 3(n^{2}p^{2}+n^{3}p^{3}-n^{2}p^{3}) - 2(np)^{3}$$\n",
    "$$ \\mathbf{E}(X^{3}) = np - 2np^{2} - np^{2} + 2np^{3} + 3n^{2}p^{2}+3n^{3}p^{3}-3n^{2}p^{3} - 2(np)^{3}$$\n",
    "$$ \\mathbf{E}(X^{3}) = np - 3np^{2} + 2np^{3} + 3n^{2}p^{2} + n^{3}p^{3} - 3n^{2}p^{3}$$\n",
    "$$ \\mathbf{E}(X^{3}) = np +3n^{2}p^{2} - 3np^{2} + 2np^{3} + n^{3}p^{3} - 3n^{2}p^{3}$$\n",
    "$$ \\mathbf{E}(X^{3}) = np +3p^{2}(n^{2} - n) + 2np^{3} + n^{3}p^{3} - 3n^{2}p^{3}$$\n",
    "$$ \\mathbf{E}(X^{3}) = np +3p^{2}(n(n - 1)) + 2np^{3} + n^{3}p^{3} - 3n^{2}p^{3}$$\n",
    "$$ \\mathbf{E}(X^{3}) = np +3p^{2}(n(n - 1)) + n^{3}p^{3} - 3n^{2}p^{3}+ 2np^{3} $$\n",
    "$$ \\mathbf{E}(X^{3}) = np +3p^{2}(n(n - 1)) + n^{3}p^{3} - 2n^{2}p^{3} - n^{2}p^{3} + 2np^{3} $$\n",
    "$$ \\mathbf{E}(X^{3}) = np +3p^{2}(n(n - 1)) + np^{3}(n^{2} - 2n - n + 2) $$\n",
    "$$ \\mathbf{E}(X^{3}) = np +3p^{2}(n(n - 1)) + np^{3}((n-1)(n-2)) $$"
   ]
  },
  {
   "cell_type": "markdown",
   "metadata": {},
   "source": [
    "<center>Overall, this calculation runs in $O(1)$ for a constant $n$</center>"
   ]
  },
  {
   "cell_type": "code",
   "execution_count": 101,
   "metadata": {},
   "outputs": [
    {
     "name": "stdout",
     "output_type": "stream",
     "text": [
      " p = 0.05 : 125712927 \n",
      " p = 0.1 : 1002700720 \n",
      " p = 0.2 : 8009600960 \n",
      " p = 0.3 : 27018900839 \n"
     ]
    }
   ],
   "source": [
    "prob_list = [0.05,0.1,0.2,0.3]\n",
    "n = 10000\n",
    "for p in prob_list:\n",
    "    res = n*p + 3*(p**2)*(n*(n-1)) + n*(p**3)*((n-1)*(n-2))\n",
    "    print (' p = {} : {} '.format(p,int(res)))\n",
    "    \n"
   ]
  },
  {
   "cell_type": "markdown",
   "metadata": {},
   "source": [
    "### Question 3 - Rent distributions in Randomistan"
   ]
  },
  {
   "cell_type": "markdown",
   "metadata": {},
   "source": [
    "The state of Randomistan conducted a survey to study the distribution of rent paid in two neighboring towns, Stochastic Heights and Random Grove, to be denoted SH and RG.<br> \n",
    "The population of SH and RG is 12K and 18K respectively. <br>\n",
    "Here are some findings of the survey:\n",
    "* The mean rent in SH and RG is 5100RCU and 3700RCU respectively.\n",
    "* The median rent is 4000RCU in both towns.\n",
    "* The IQR of the rent is smaller in SH than in RG.\n",
    "\n",
    "All data generated in this question needs to be consistent with these findings."
   ]
  },
  {
   "cell_type": "markdown",
   "metadata": {},
   "source": [
    "#### 3.A\n",
    "Draw histograms that describe 2 different scenarii of possible distributions of rent in the two towns.\u000b",
    "Your histograms should:<br>\n",
    "* Use bins of 100RCU each.\n",
    "* Have at least 10 non zero bins."
   ]
  },
  {
   "cell_type": "markdown",
   "metadata": {},
   "source": [
    "***Answer:***"
   ]
  },
  {
   "cell_type": "code",
   "execution_count": 115,
   "metadata": {
    "scrolled": false
   },
   "outputs": [
    {
     "name": "stdout",
     "output_type": "stream",
     "text": [
      "SH - Mean: 5100, Median: 4000 , IQR: 3100\n",
      "RG - Mean: 3700, Median: 4000 , IQR: 5360\n",
      "Fits IQR requirements\n"
     ]
    },
    {
     "data": {
      "text/plain": [
       "<matplotlib.legend.Legend at 0x123c8a910>"
      ]
     },
     "execution_count": 115,
     "metadata": {},
     "output_type": "execute_result"
    },
    {
     "data": {
      "image/png": "[encoded data removed]",
      "text/plain": [
       "<Figure size 1296x576 with 1 Axes>"
      ]
     },
     "metadata": {
      "needs_background": "light"
     },
     "output_type": "display_data"
    }
   ],
   "source": [
    "# Setting up SH\n",
    "sh_pop = 12000\n",
    "s_t = np.array([4000, 3800, 6900, 3700, 6500, 3700, 6800, 3990, 6210, 3000, 7200, 2300, 8200] * int(sh_pop/13))\n",
    "\n",
    "print('SH - Mean: {}, Median: {} , IQR: {}'.format(int(np.mean(s_t)), int(np.median(s_t)), int(stats.iqr(s_t))))\n",
    "\n",
    "# Setting up RG\n",
    "rg_pop = 18000\n",
    "s_2t =np.array([4000, 20, 7300, 120, 7280, 520, 6880, 1020, 6380, 2000, 5300, 2300, 5100, 3200, 4080] * int(rg_pop/15))\n",
    "\n",
    "print('RG - Mean: {}, Median: {} , IQR: {}'.format(int(np.mean(s_2t)), int(np.median(s_2t)), int(stats.iqr(s_2t))))\n",
    "\n",
    "if (stats.iqr(s_t) < stats.iqr(s_2t)):\n",
    "    print ('Fits IQR requirements')\n",
    "    \n",
    "figure, ax = plt.subplots(figsize = (18,8))\n",
    "ax.hist([s_t,s_2t], bins = np.arange(min(min(s_t),min(s_2t)), max(max(s_t), max(s_2t)), 100), color = ['magenta','orange'], histtype='bar', label=['SH','RG'])\n",
    "plt.title('Scenario 1')\n",
    "plt.xlabel('RCU')\n",
    "plt.ylabel('Frequency')\n",
    "plt.legend()"
   ]
  },
  {
   "cell_type": "code",
   "execution_count": 116,
   "metadata": {
    "scrolled": false
   },
   "outputs": [
    {
     "name": "stdout",
     "output_type": "stream",
     "text": [
      "SH s_t - Mean: 5100, Median: 4000 , IQR: 3700\n",
      "GH s_t - Mean: 3700, Median: 4000 , IQR: 6700\n",
      "Fits IQR requirements\n"
     ]
    },
    {
     "data": {
      "text/plain": [
       "<matplotlib.legend.Legend at 0x1248e6cd0>"
      ]
     },
     "execution_count": 116,
     "metadata": {},
     "output_type": "execute_result"
    },
    {
     "data": {
      "image/png": "[encoded data removed]",
      "text/plain": [
       "<Figure size 1296x576 with 1 Axes>"
      ]
     },
     "metadata": {
      "needs_background": "light"
     },
     "output_type": "display_data"
    }
   ],
   "source": [
    "# Scenario 2\n",
    "# Setting up SH\n",
    "sh_pop = 12000\n",
    "\n",
    "# newly added terms\n",
    "s_t=np.array([2500, 3000, 3500, 3250, 3750, 4000, 7900, 7500, 6800, 6950, 6950, 2200, 8000] * int(sh_pop/13))\n",
    "print('SH s_t - Mean: {}, Median: {} , IQR: {}'.format(int(np.mean(s_t)), int(np.median(s_t)), int(stats.iqr(s_t))))\n",
    "\n",
    "# Setting up RG\n",
    "rg_pop = 18000\n",
    "\n",
    "# newly added terms\n",
    "s_1t = np.array([200, 7000, 100, 7200, 200, 7200, 300, 7100, 1000, 6400, 4000 , 2000, 4000, 2300, 6500]* int(rg_pop/15))\n",
    "print('GH s_t - Mean: {}, Median: {} , IQR: {}'.format(int(np.mean(s_1t)), int(np.median(s_1t)), int(stats.iqr(s_1t))))\n",
    "\n",
    "if (stats.iqr(s_t) < stats.iqr(s_1t)):\n",
    "    print ('Fits IQR requirements')\n",
    "    \n",
    "figure, ax = plt.subplots(figsize = (18,8))\n",
    "ax.hist([s_t,s_1t], bins = np.arange(min(min(s_t),min(s_1t)), max(max(s_t), max(s_1t)), 200), histtype='bar',color=['blue','cyan'],label=['SH','RG'])\n",
    "plt.title('Scenario 2')\n",
    "plt.xlabel('RCU')\n",
    "plt.ylabel('Frequency')\n",
    "plt.legend()"
   ]
  },
  {
   "cell_type": "markdown",
   "metadata": {},
   "source": [
    "#### 3.B\n",
    "Draw a histogram of a third scenario with the same properties. <br>\n",
    "In addition, in this scenario the rent in SH should have a higher variance than the rent in RG "
   ]
  },
  {
   "cell_type": "markdown",
   "metadata": {},
   "source": [
    "***Answer:***"
   ]
  },
  {
   "cell_type": "code",
   "execution_count": 145,
   "metadata": {},
   "outputs": [
    {
     "name": "stdout",
     "output_type": "stream",
     "text": [
      "SH - Mean: 5100, Median: 4000 , IQR: 4500, Var: 11614435\n",
      "RG - Mean: 3700, Median: 4000 , IQR: 6800, Var: 9964090\n",
      "Fits IQR and Var requirements\n"
     ]
    },
    {
     "data": {
      "text/plain": [
       "<matplotlib.legend.Legend at 0x12fd33050>"
      ]
     },
     "execution_count": 145,
     "metadata": {},
     "output_type": "execute_result"
    },
    {
     "data": {
      "image/png": "[encoded data removed]",
      "text/plain": [
       "<Figure size 1296x576 with 1 Axes>"
      ]
     },
     "metadata": {
      "needs_background": "light"
     },
     "output_type": "display_data"
    }
   ],
   "source": [
    "# Scenario 3\n",
    "# Setting up SH\n",
    "\n",
    "sh_pop = 12000\n",
    "\n",
    "# newly added terms\n",
    "s_t=np.array([40, 10165, 35, 10165, 30, 10165, 2500, 3000, 3500, 3250, 3750, 4000, 7900, 7500, 6800, 6950, 6950] * int(sh_pop/17))\n",
    "print('SH - Mean: {}, Median: {} , IQR: {}, Var: {}'.format(int(np.mean(s_t)), int(np.median(s_t)), int(stats.iqr(s_t)), int(np.var(s_t))))\n",
    "\n",
    "# Setting up RG\n",
    "\n",
    "rg_pop = 18000\n",
    "# newly added terms\n",
    "s_1t = np.array([250, 7000, 150, 7200, 400, 7400, 300, 7100, 800, 6100, 4000]* int(rg_pop/11))\n",
    "print('RG - Mean: {}, Median: {} , IQR: {}, Var: {}'.format(int(np.mean(s_1t)), int(np.median(s_1t)), int(stats.iqr(s_1t)), int(np.var(s_1t))))\n",
    "\n",
    "if ((stats.iqr(s_t) < stats.iqr(s_1t)) and (np.var(s_t) > np.var(s_1t))):\n",
    "    print ('Fits IQR and Var requirements')\n",
    "\n",
    "figure, ax = plt.subplots(figsize = (18,8))\n",
    "ax.hist([s_t,s_1t], bins = np.arange(min(min(s_t),min(s_1t)), max(max(s_t), max(s_1t)), 125), histtype='bar', color=['lightcoral','cornflowerblue'], label=['SH','RG'])\n",
    "plt.title('Senario 3')\n",
    "plt.xlabel('RCU')\n",
    "plt.ylabel('Frequency')\n",
    "plt.legend()"
   ]
  },
  {
   "cell_type": "markdown",
   "metadata": {},
   "source": [
    "The survey also examined the per household income (PHI) in these two places.<br>\n",
    "It found that:<br>\n",
    "* The mean of PHI in SH is 12500 and in RG is 8500\n",
    "* The median is 12000 in SH and 8000 in RG\n",
    "* The covariance of the rent and the PHI was observed to be as in the formula below with $\\alpha=97\\%$ and $\\alpha=89\\%$ in SH and in RG respectively.<br><br>\n",
    "$$Cov(rent, PHI) = \\alpha * \\sqrt{Var(rent)} * \\sqrt{Var(PHI)}$$\n",
    "\n",
    "#### 3.C\n",
    "Produce rent and PHI data for the two cities, that is consistent with these findings. The covariances in your data can deviate by up to 1% from the numbers given $\\alpha$."
   ]
  },
  {
   "cell_type": "markdown",
   "metadata": {},
   "source": [
    "***Answer:***"
   ]
  },
  {
   "cell_type": "code",
   "execution_count": 150,
   "metadata": {},
   "outputs": [
    {
     "name": "stdout",
     "output_type": "stream",
     "text": [
      "PHI Mean for SH 12500.0\n",
      "PHI Median for SH 12000.0\n",
      "Rent Mean for SH 5100.0\n",
      "Rent Median for SH 4000.0\n",
      "Retrieved SH Covariance 6663888.7, Requiered SH Covariance 6641943.5 \n",
      "Percent Diff for SH Covariance Values 0.33%\n",
      "================================================================================\n",
      "PHI Mean for RG 8500.0\n",
      "PHI Median for RG 8000.0\n",
      "Rent Median for RG 4000.0\n",
      "Rent Mean for RG 3700.0\n",
      "Retrieved RG Covariance  2127390.9, Requiered RG Covariance  2114376.1 \n",
      "Percent Diff for SH Covariance Values 0.61%\n"
     ]
    }
   ],
   "source": [
    "# SH requirements\n",
    "required_phi_mean_sh = 12500\n",
    "required_phi_median_sh = 12000\n",
    "required_phi_alpha_sh = 0.97\n",
    "\n",
    "# Producing data for income\n",
    "phi_sh = np.array([8500, 9000, 9500, 10000, 10500, 11000, 12000, 12000, 12000, 12000, 13500, 13500, 16500, 18000, 19500] * int(sh_pop/15))\n",
    "phi_sh_median = np.median(phi_sh)\n",
    "phi_sh_mean = np.mean(phi_sh)\n",
    "\n",
    "print ('PHI Mean for SH {}'.format(phi_sh_mean))\n",
    "print ('PHI Median for SH {}'.format(phi_sh_median))\n",
    "\n",
    "# Producing data for rent\n",
    "# we want mean = 5100\n",
    "# we want median = 4000\n",
    "rent_sh = np.array([2100, 3100, 3700, 3700, 4000, 4000, 4000, 4000, 4000, 5000, 6200, 6300, 7600, 8300, 10500] * int(sh_pop/15))\n",
    "rent_sh_median = np.median(rent_sh)\n",
    "rent_sh_mean = np.mean(rent_sh)\n",
    "\n",
    "print ('Rent Mean for SH {0:.1f}'.format(rent_sh_mean))\n",
    "print ('Rent Median for SH {0:.1f}'.format(rent_sh_median))\n",
    "\n",
    "# Calculating the cov using the rent data and the income data\n",
    "sh_cov = np.cov(rent_sh, phi_sh)[0,1]\n",
    "\n",
    "sh_cov_formula = required_phi_alpha_sh * ((np.sqrt(np.var((rent_sh)))) * (np.sqrt(np.var((phi_sh)))))\n",
    "\n",
    "print('Retrieved SH Covariance {0:.1f}, Requiered SH Covariance {1:.1f} '.format(sh_cov, sh_cov_formula))\n",
    "diff = sh_cov - sh_cov_formula\n",
    "print('Percent Diff for SH Covariance Values {0:.2f}%'.format(np.abs((diff)/sh_cov * 100)))\n",
    "\n",
    "print('='*80)\n",
    "\n",
    "# RG requirements\n",
    "required_phi_mean_rg = 8500\n",
    "required_phi_median_rg = 8000\n",
    "required_phi_alpha_rg = 0.89\n",
    "\n",
    "# Producing data for income\n",
    "phi_rg = np.array([6000, 6500, 7000, 7500, 8000, 8000 ,8000, 9000, 9500, 11000, 13000] * int(rg_pop/11))\n",
    "phi_rg_median = np.median(phi_rg)\n",
    "phi_rg_mean = np.mean(phi_rg)\n",
    "\n",
    "print ('PHI Mean for RG {}'.format(phi_rg_mean))\n",
    "print ('PHI Median for RG {}'.format(phi_rg_median))\n",
    "\n",
    "# Producing data for rent\n",
    "# we want mean = 3700\n",
    "# we want median = 4000\n",
    "rent_rg = np.array([2000, 1500, 2500, 3400, 3500, 4000, 4000, 4500, 4800, 5000, 5500]* int(rg_pop/11))\n",
    "rent_rg_median = np.median(rent_rg)\n",
    "rent_rg_mean = np.mean(rent_rg)\n",
    "\n",
    "print ('Rent Median for RG {0:.1f}'.format(rent_rg_median))\n",
    "print ('Rent Mean for RG {0:.1f}'.format(rent_rg_mean))\n",
    "\n",
    "#calculating the cov using the rent data and the income data\n",
    "rg_cov = np.cov(rent_rg, phi_rg)[0,1]\n",
    "\n",
    "rg_cov_formula = required_phi_alpha_rg * ((np.sqrt(np.var((rent_rg)))) * (np.sqrt(np.var((phi_rg)))))\n",
    "\n",
    "print('Retrieved RG Covariance  {0:.1f}, Requiered RG Covariance  {1:.1f} '.format(rg_cov, rg_cov_formula))\n",
    "diff = rg_cov - rg_cov_formula\n",
    "print('Percent Diff for SH Covariance Values {0:.2f}%'.format(np.abs((diff)/rg_cov * 100)))"
   ]
  },
  {
   "cell_type": "markdown",
   "metadata": {},
   "source": [
    "#### 3.D\n",
    "Produce two heatmaps that describe these two bivariate joint distributions. Make sure you carefully consider the selcted bining resolution."
   ]
  },
  {
   "cell_type": "markdown",
   "metadata": {},
   "source": [
    "***Answer:***"
   ]
  },
  {
   "cell_type": "code",
   "execution_count": 153,
   "metadata": {},
   "outputs": [],
   "source": [
    "# We tried to do cross product ofvarious ways and our kernel would hang every time. \n",
    "# We spent a lot of time trying to fix this but couldn't figure it out\n",
    "\n",
    "# rows = product(rent_sh, phi_sh)\n",
    "# rows_df = pd.DataFrame(rows)\n",
    "# heat_data = np.cross([rent_sh], [phi_sh])"
   ]
  },
  {
   "cell_type": "code",
   "execution_count": 154,
   "metadata": {},
   "outputs": [
    {
     "data": {
      "image/png": "[encoded data removed]",
      "text/plain": [
       "<Figure size 360x360 with 2 Axes>"
      ]
     },
     "metadata": {
      "needs_background": "light"
     },
     "output_type": "display_data"
    },
    {
     "data": {
      "image/png": "[encoded data removed]",
      "text/plain": [
       "<Figure size 360x360 with 2 Axes>"
      ]
     },
     "metadata": {
      "needs_background": "light"
     },
     "output_type": "display_data"
    }
   ],
   "source": [
    "plt.figure(figsize=(5, 5))\n",
    "plt.hist2d(rent_sh, phi_sh, bins=20, cmap='magma')\n",
    "plt.title(\"SH Rent - PHI Heatmap\")\n",
    "plt.xlabel(\"Rent\")\n",
    "plt.ylabel(\"PHI\")\n",
    "plt.colorbar()\n",
    "plt.show() \n",
    "\n",
    "\n",
    "plt.figure(figsize=(5, 5))\n",
    "plt.hist2d(rent_rg, phi_rg, bins=20, cmap='magma')\n",
    "plt.title(\"RG Rent - PHI Heatmap\")\n",
    "plt.xlabel(\"Rent\")\n",
    "plt.ylabel(\"PHI\")\n",
    "plt.colorbar()\n",
    "plt.show()"
   ]
  },
  {
   "cell_type": "markdown",
   "metadata": {},
   "source": [
    "### Question 4 - Covariance and independence"
   ]
  },
  {
   "cell_type": "markdown",
   "metadata": {},
   "source": [
    "#### 4.A\n",
    "Define two random variables X and Y over the same probability space so that<br>\n",
    "* E(X) = the sum of digits of the date you were born on (sum of all in DD/MM/YYYY)\n",
    "* E(Y) = the sum of the two last digits of your id number\n",
    "\n",
    "And so that X and Y are:\n",
    "* NOT correlated (Cov(X,Y) = 0) and NOT independent."
   ]
  },
  {
   "cell_type": "markdown",
   "metadata": {},
   "source": [
    "***Answer:***"
   ]
  },
  {
   "cell_type": "code",
   "execution_count": 97,
   "metadata": {},
   "outputs": [
    {
     "name": "stdout",
     "output_type": "stream",
     "text": [
      "E(X) = 28 = Birthday Digits\n",
      "E(Y) = 9 = ID Digits\n",
      "Cov(X,Y) = 0.0\n",
      "\n",
      "In order to show dependence, we must show: \n"
     ]
    },
    {
     "data": {
      "text/latex": [
       "$\\displaystyle P(X ∩ Y) \\ne P(X) \\bullet P(Y) \\Rightarrow P(X|Y) \\ne P(X)$"
      ],
      "text/plain": [
       "<IPython.core.display.Math object>"
      ]
     },
     "metadata": {},
     "output_type": "display_data"
    },
    {
     "data": {
      "text/latex": [
       "$\\displaystyle P(X = 28) = P((RV + 28) = 28) = P(RV = 0) = \\frac{1}{5}$"
      ],
      "text/plain": [
       "<IPython.core.display.Math object>"
      ]
     },
     "metadata": {},
     "output_type": "display_data"
    },
    {
     "data": {
      "text/latex": [
       "$\\displaystyle P(X = 28|Y = 9) =  P((RV + 28) = 28 | (RV^{2} + 9) = 9) = P(RV = 0 | RV = 0) = 1$"
      ],
      "text/plain": [
       "<IPython.core.display.Math object>"
      ]
     },
     "metadata": {},
     "output_type": "display_data"
    },
    {
     "data": {
      "text/latex": [
       "$\\displaystyle P(X = 28) = \\frac{1}{5} \\ne 1 =  P(X = 28|Y = 9)$"
      ],
      "text/plain": [
       "<IPython.core.display.Math object>"
      ]
     },
     "metadata": {},
     "output_type": "display_data"
    },
    {
     "name": "stdout",
     "output_type": "stream",
     "text": [
      "Hence, the random variables not dependent\n"
     ]
    }
   ],
   "source": [
    "# Birthday = 04/01/1994\n",
    "# ID = 204818181\n",
    "bday_digits = 4 + 1+ 1+ 9 + 9+ 4 \n",
    "id_digits = 8 + 1\n",
    "\n",
    "# We construct a random variable, rv, and the second moment of rv, that will be later on used to define X and Y\n",
    "rv = {\n",
    "    \"values\": [-2, -1, 0, 1, 2],\n",
    "    \"probs\": [1/5, 1/5, 1/5, 1/5, 1/5]\n",
    "     }\n",
    "\n",
    "rv_expectation = np.sum(np.multiply(rv['values'],rv[\"probs\"]))\n",
    "rv_secondM_expectation = np.sum(np.multiply(np.multiply(rv['values'],rv['values']),rv[\"probs\"]))\n",
    "\n",
    "# We now define the random variables X and Y\n",
    "# Based on logic defined in recitation regarding subtracting expectation\n",
    "rv_X = (bday_digits - rv_expectation) + rv['values']\n",
    "rv_X_expectation = int(np.sum(np.multiply(rv_X, rv[\"probs\"])))\n",
    "\n",
    "rv_Y = (id_digits - rv_secondM_expectation) + np.multiply(rv['values'],rv['values'])\n",
    "rv_Y_expectation = int(np.sum(np.multiply(rv_Y, rv[\"probs\"])))\n",
    "  \n",
    "# Random variable expectations vs requiernments\n",
    "if(rv_X_expectation == bday_digits ):\n",
    "    print('E(X) = {} = Birthday Digits'.format(rv_X_expectation))\n",
    "\n",
    "if(rv_Y_expectation == id_digits ):\n",
    "    print('E(Y) = {} = ID Digits'.format(rv_Y_expectation))\n",
    "    \n",
    "# Covariance is a measure of how much two random variables vary together.\n",
    "# We built X and Y in such a way that we ensuring that the covariance of the random variable X, Y is 0\n",
    "covariance_XY = np.cov(rv_X,rv_Y)[0, 1]\n",
    "print(\"Cov(X,Y) =\", covariance_XY)\n",
    "\n",
    "# Showing dependence between X and Y\n",
    "print('\\nIn order to show dependence, we must show: ')\n",
    "(display(Math(r'P(X ∩ Y) \\ne P(X) \\bullet P(Y) \\Rightarrow P(X|Y) \\ne P(X)' )))\n",
    "(display(Math(r'P(X = 28) = P((RV + 28) = 28) = P(RV = 0) = \\frac{1}{5}')))\n",
    "(display(Math(r'P(X = 28|Y = 9) =  P((RV + 28) = 28 | (RV^{2} + 9) = 9) = P(RV = 0 | RV = 0) = 1')))\n",
    "(display(Math(r'P(X = 28) = \\frac{1}{5} \\ne 1 =  P(X = 28|Y = 9)')))\n",
    "print('Hence, the random variables not dependent')\n"
   ]
  },
  {
   "cell_type": "markdown",
   "metadata": {},
   "source": [
    "#### 4.B\n",
    "Can you define random variables that are independent and so that Cov(X,Y) > 0?<br>\n",
    "Explain.\n"
   ]
  },
  {
   "cell_type": "markdown",
   "metadata": {},
   "source": [
    "***Answer:***"
   ]
  },
  {
   "cell_type": "markdown",
   "metadata": {},
   "source": [
    "Recall that covariance is a measure of how much two random variables vary together. The nearer to zero, the more spread out the data and less dependent (independent), the larger the covariance is (either negative or positive), the stronger the correlation between the two random variables. \n",
    "Hence, we cannot define a  two random variables that are independent of eachother while having a covariance strictly greater than zero. \n",
    "\n",
    "Brief Proof:\n",
    "Assume that $X$ and $Y$ are independent random variables, then by definition $ E(XY) = E(X)E(Y) $\n",
    "By definition,\n",
    "$$ COV(X,Y) = E(XY)-E(X)E(Y) $$\n",
    "\n",
    "$$ = E(X)E(Y) -E(X)E(Y) = 0 $$\n",
    "Thus, \n",
    "$$ COV(X,Y) = 0 $$\n",
    "\n"
   ]
  },
  {
   "cell_type": "markdown",
   "metadata": {},
   "source": [
    "### Question 5 - Convolutions"
   ]
  },
  {
   "cell_type": "markdown",
   "metadata": {},
   "source": [
    "#### 5.A\n",
    "Write a program, `Q = NFoldConv(P , n)`, that takes as input:\n",
    "* A distribution, P, of a random variable that takes finitely many integer values\n",
    "* An integer n\n",
    "\n",
    "and produces the distribution, Q, of the sum of n independent repeats of random variables, each of which has the distribution P."
   ]
  },
  {
   "cell_type": "markdown",
   "metadata": {},
   "source": [
    "***Answer:***"
   ]
  },
  {
   "cell_type": "code",
   "execution_count": 158,
   "metadata": {},
   "outputs": [],
   "source": [
    "# We assume that the input of the distribution is given in a form of a dictionary P where, P['dis_V'] holds\n",
    "# distribution values and where P['dis_P'] holds the probability of each value\n",
    "\n",
    "def NFoldConv(P, n):\n",
    "    # Obtaining all values and probabilities out of the given distribution and repeating these values n times, essentially, cross product\n",
    "    values = np.array(list(product(P[\"dis_V\"], repeat = n)))\n",
    "    probabilities = np.array(list(product(P[\"dis_P\"], repeat = n)))\n",
    "   \n",
    "    # Obtaining all possible values and all possible probabilities for Q. i.e. all possible sums of values for summing n elements\n",
    "    valus_sum = values.sum(axis=1)\n",
    "    probabilities_product = np.product(probabilities, axis=1)\n",
    "    \n",
    "    # We must constructe a dataframe and define the columnns\n",
    "    results = list(zip(valus_sum,probabilities_product))\n",
    "    results_df = pd.DataFrame(results, columns=['Q_Values', \"Q_Probabilities\"])\n",
    "    \n",
    "    # We sum the probabilities of all instances per sum value\n",
    "    Q = results_df.groupby(\"Q_Values\")[\"Q_Probabilities\"].sum()\n",
    "    return Q"
   ]
  },
  {
   "cell_type": "markdown",
   "metadata": {},
   "source": [
    "#### 5.B\n",
    "Compute the distribution of the sum of the results of rolling a fair dice 8 times"
   ]
  },
  {
   "cell_type": "markdown",
   "metadata": {},
   "source": [
    "***Answer:***"
   ]
  },
  {
   "cell_type": "code",
   "execution_count": 159,
   "metadata": {},
   "outputs": [
    {
     "data": {
      "image/png": "[encoded data removed]",
      "text/plain": [
       "<Figure size 1440x576 with 1 Axes>"
      ]
     },
     "metadata": {
      "needs_background": "light"
     },
     "output_type": "display_data"
    }
   ],
   "source": [
    "#Consider the following distribution of a fair dice\n",
    "P = {\n",
    "    \"dis_V\": [1 , 2, 3, 4, 5, 6],\n",
    "    \"dis_P\": [1/6, 1/6, 1/6, 1/6, 1/6, 1/6]\n",
    "    }\n",
    "\n",
    "Q = NFoldConv(P,8)\n",
    "\n",
    "plt.title('Distribution: Sum of Rolling Fair Dice 8 Times')\n",
    "plt.xlabel('Sum')\n",
    "plt.ylabel('Total Pobability')\n",
    "Q.plot.bar(figsize = (20,8), color = 'red', alpha = 0.4)\n",
    "plt.show()"
   ]
  },
  {
   "cell_type": "markdown",
   "metadata": {},
   "source": [
    "#### 5.C\n",
    "Assume that the price of a stock changes in any given day according to (in NIS):\n",
    "$$P=\\begin{pmatrix}\n",
    "-1 & 0 & 1 & 2 & 3 \\\\\n",
    "0.2 & 0.25 & 0.35 & 0.05 & 0.15\n",
    "\\end{pmatrix}$$\n",
    "\n",
    "1. What is the distribution of the change in stock after 2 consecutive days of (independent) changes? After 5 consecutive days? "
   ]
  },
  {
   "cell_type": "markdown",
   "metadata": {},
   "source": [
    "***Answer:***"
   ]
  },
  {
   "cell_type": "code",
   "execution_count": 160,
   "metadata": {},
   "outputs": [
    {
     "data": {
      "image/png": "[encoded data removed]",
      "text/plain": [
       "<Figure size 1440x720 with 1 Axes>"
      ]
     },
     "metadata": {
      "needs_background": "light"
     },
     "output_type": "display_data"
    },
    {
     "data": {
      "image/png": "[encoded data removed]",
      "text/plain": [
       "<Figure size 1440x720 with 1 Axes>"
      ]
     },
     "metadata": {
      "needs_background": "light"
     },
     "output_type": "display_data"
    }
   ],
   "source": [
    "P = {\n",
    "    \"dis_V\": [-1 , 0, 1, 2, 3],\n",
    "    \"dis_P\": [0.2, 0.25, 0.35, 0.05, 0.15]\n",
    "    }\n",
    "\n",
    "\n",
    "plt.title(\"Distribution: Stock Changes After 2 Days\")\n",
    "plt.ylabel(\"Probability\")\n",
    "Q = NFoldConv(P,2)\n",
    "Q.plot.bar(figsize=(20,10), color = 'red', alpha = 0.4)\n",
    "plt.show()\n",
    "\n",
    "\n",
    "plt.title(\"Distribution: Stock Changes After 5 Days\")\n",
    "plt.ylabel(\"Probability\")\n",
    "Q = NFoldConv(P,5)\n",
    "Q.plot.bar(figsize=(20,10), color = 'blue', alpha = 0.4)\n",
    "plt.show()"
   ]
  },
  {
   "cell_type": "markdown",
   "metadata": {},
   "source": [
    "2. What is the probability that the stock has gained strictly more than 7NIS after 5 days? \u000b",
    "Has lost strictly more than 7NIS?"
   ]
  },
  {
   "cell_type": "markdown",
   "metadata": {},
   "source": [
    "***Answer:***"
   ]
  },
  {
   "cell_type": "code",
   "execution_count": 161,
   "metadata": {},
   "outputs": [
    {
     "name": "stdout",
     "output_type": "stream",
     "text": [
      "Probability That The Stock Gained Strictly More Than 7NIS: 0.084\n",
      "Probability That The Stock Gained Strictly Less Than 7NIS: 0.851\n"
     ]
    }
   ],
   "source": [
    "#Converting the Series to DataFrame so its easier to work with\n",
    "Q = NFoldConv(P,5)\n",
    "Q_df = pd.DataFrame({'value':Q.index, 'prob':Q.values})\n",
    "\n",
    "#Probability that stock gained more than 7\n",
    "res = Q_df[Q_df['value'] > 7]['prob'].sum()\n",
    "print(\"Probability That The Stock Gained Strictly More Than 7NIS: {0:.3f}\".format(res))\n",
    "#Probability that stock lost more than 7\n",
    "res = Q_df[Q_df['value'] < 7]['prob'].sum()\n",
    "print(\"Probability That The Stock Gained Strictly Less Than 7NIS: {0:.3f}\".format(res))\n",
    "\n"
   ]
  },
  {
   "cell_type": "markdown",
   "metadata": {},
   "source": [
    "### Question 6 - Poisson mode"
   ]
  },
  {
   "cell_type": "markdown",
   "metadata": {},
   "source": [
    "Let $X\\sim{}Poi(λ)$<br>\n",
    "#### 6.A\n",
    "Find the mode of X and prove your calculation."
   ]
  },
  {
   "cell_type": "markdown",
   "metadata": {},
   "source": [
    "***Answer:***"
   ]
  },
  {
   "cell_type": "markdown",
   "metadata": {},
   "source": [
    "Recall that the mode of a distibution is the most common value in the distribution.i.e, the value with the highest proability\n",
    "\n",
    "For Poisson distribution and a random variable $X$, consider:\n",
    "$$\\frac{P(X = k)}{P(X = k-1)} = \\frac{e^{-\\lambda}\\frac{\\lambda^k}{k!}}{e^{-\\lambda}\\frac{\\lambda^{k-1}}{(k-1)!}} = \\frac{\\lambda}{k}$$\n",
    "Then,\n",
    "$$P(X=k) = \\frac{\\lambda}{k} P(X= k-1)$$\n",
    "\n",
    "Case 1: for $k <\\lambda$\n",
    "\n",
    "$\\frac{\\lambda}{k} > 1$ then for any $k$, $P(X=k) > P(X=k-1) > P(X=k-2)$..., this means that the mode of $X$ is monotononicly increaes until $k>=\\lambda$\n",
    "\n",
    "Case 2: for $k = \\lambda$\n",
    "\n",
    "$\\frac{\\lambda}{k} = 1$ then for any $k$, $P(X=k) = P(X=k-1) = P(X=k-2)$..., the mode is $x$ and $x-1$\n",
    "\n",
    "Case 3: for $k > \\lambda$\n",
    "\n",
    "$\\frac{\\lambda}{k} < 1$ and $(x-1)!=\\lambda$ then $P(X=k) < P(X=k-1) < P(X=k-2)$ for any $k$, then $\\lambda$ is not an integer then the mode of $x = x-1 =  \\lfloor \\lambda \\rfloor$\n",
    "\n",
    "All together,\n",
    "\\begin{equation}\n",
    "\\\\mode(X) =\n",
    "\\begin{cases} \n",
    "      \\lambda - 1\\,and\\, \\lambda & \\text{if $\\lambda$ is integer}, \\\\\n",
    "      \\lfloor\\lambda\\rfloor & \\text{otherwise}\n",
    "   \\end{cases}\n",
    "\\end{equation}"
   ]
  },
  {
   "cell_type": "markdown",
   "metadata": {},
   "source": [
    "\n",
    "#### 6.B\n",
    "Plot the pdf of $X$ for $\\lambda=4, \\lambda=9.3, \\lambda=25.8$.<br>\n",
    "Show the following quantities on your plots:\n",
    "* The mode of $X$\n",
    "* The median of $X$\n",
    "* $\\mu(X)$"
   ]
  },
  {
   "cell_type": "markdown",
   "metadata": {},
   "source": [
    "***Answer:***"
   ]
  },
  {
   "cell_type": "code",
   "execution_count": 162,
   "metadata": {},
   "outputs": [
    {
     "data": {
      "image/png": "[encoded data removed]",
      "text/plain": [
       "<Figure size 1440x1080 with 1 Axes>"
      ]
     },
     "metadata": {
      "needs_background": "light"
     },
     "output_type": "display_data"
    }
   ],
   "source": [
    "# Fixed randm values\n",
    "np.random.seed(222)\n",
    "\n",
    "# The array of lambdas\n",
    "lambdaArr = [4, 9.3, 25.8]\n",
    "\n",
    "# Setting up the figure\n",
    "plt.figure(figsize=(20, 15))\n",
    "plt.title('Plotting multiple Poission PDF distributions')\n",
    "plt.xlabel('Probability')\n",
    "plt.ylabel('Frequency') \n",
    "\n",
    "# Color list\n",
    "colors = ['red', 'green', 'blue', 'maroon','lightgreen', 'slategrey', 'orchid','olivedrab','aqua','pink','greenyellow','deepskyblue']\n",
    "\n",
    "# Fill up the array of datasets\n",
    "dataset = {}\n",
    "for i,l in enumerate(lambdaArr):\n",
    "    dataset[i] = np.random.poisson(lam=l, size=10000)\n",
    "\n",
    "# For each dataset, find the mean, mode, median and construct the histogram and visual requirnments\n",
    "for i in range(len(lambdaArr)):\n",
    "    data_mean =np.average(dataset[i])\n",
    "    data_mode = np.array(stats.mode(dataset[i]))[0][0]\n",
    "    data_median = np.median(dataset[i])\n",
    "    plt.text(10 * i, 2300, 'Mean:{0}\\nMedian:{1}\\nMode:{2}'.format(data_mean,data_median,data_mode),bbox=dict(facecolor=colors[i], alpha=0.1))\n",
    "    plt.hist(dataset[i], bins = 15, label=\"PDF for λ = {}\".format(lambdaArr[i]), color=colors[i],alpha = 0.5)\n",
    "    plt.axvline(data_mean, color=colors[i+3], linestyle='--', linewidth=2, label='Mean λ={}'.format(lambdaArr[i]))\n",
    "    plt.axvline(data_median, color=colors[i+6], linestyle='-', linewidth=2, label='Median λ={}'.format(lambdaArr[i]))\n",
    "    plt.axvline(data_mode, color=colors[i+9], linestyle=':', linewidth=2, label='Mode λ={}'.format(lambdaArr[i]))\n",
    "\n",
    "    \n",
    "# Display the graph   \n",
    "plt.legend()\n",
    "plt.show()"
   ]
  },
  {
   "cell_type": "code",
   "execution_count": null,
   "metadata": {},
   "outputs": [],
   "source": []
  }
 ],
 "metadata": {
  "kernelspec": {
   "display_name": "Python 3",
   "language": "python",
   "name": "python3"
  },
  "language_info": {
   "codemirror_mode": {
    "name": "ipython",
    "version": 3
   },
   "file_extension": ".py",
   "mimetype": "text/x-python",
   "name": "python",
   "nbconvert_exporter": "python",
   "pygments_lexer": "ipython3",
   "version": "3.7.5"
  }
 },
 "nbformat": 4,
 "nbformat_minor": 2
}
