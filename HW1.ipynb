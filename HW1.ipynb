{
 "cells": [
  {
   "cell_type": "markdown",
   "metadata": {},
   "source": [
    "### IDs:\n",
    "Insert yours IDs to the cell below"
   ]
  },
  {
   "cell_type": "markdown",
   "metadata": {},
   "source": [
    "ID #1:329827190\n",
    "\n",
    "ID #2:204818181\n"
   ]
  },
  {
   "cell_type": "markdown",
   "metadata": {},
   "source": [
    "## Read the following instructions carefully:\n",
    "\n",
    "1. This jupyter notebook contains all the step by step instructions needed for this exercise.\n",
    "1. You are free to add cells.\n",
    "1. Write your functions and your answers in this jupyter notebook only.\n",
    "1. Answers to theoretical questions should be written in **markdown cells (with $\\LaTeX$ support)**.\n",
    "1. Submit this jupyter notebook only using your ID as a filename. Not to use ZIP or RAR. For example, your Moodle submission file name should look like this (two id numbers): `123456789_987654321.ipynb`."
   ]
  },
  {
   "cell_type": "code",
   "execution_count": 2,
   "metadata": {},
   "outputs": [],
   "source": [
    "from scipy import stats \n",
    "import pandas as pd\n",
    "import matplotlib.pyplot as plt\n",
    "import numpy as np\n",
    "%matplotlib inline"
   ]
  },
  {
   "cell_type": "markdown",
   "metadata": {},
   "source": [
    "### Question 1 - Defective products"
   ]
  },
  {
   "cell_type": "markdown",
   "metadata": {},
   "source": [
    "In a manufacturing pipeline products are 1% defective. We are interested in examining a defective product to see what goes wrong on the belt. We need to ask the facility manager to send us a set of independent samples for examination."
   ]
  },
  {
   "cell_type": "markdown",
   "metadata": {},
   "source": [
    "#### 1.A\n",
    "\n",
    "How many independent samples should we ask for in order to have a 75% probability of having at least one defective product in the batch sent?\n",
    "Write a function that computes this."
   ]
  },
  {
   "cell_type": "code",
   "execution_count": 19,
   "metadata": {},
   "outputs": [
    {
     "name": "stdout",
     "output_type": "stream",
     "text": [
      "Possion - Num Trials Required: 139\n",
      "Binomial - Num Trials Required: 138\n"
     ]
    }
   ],
   "source": [
    "# We will use a Poisson Distribution and solve for n\n",
    "\n",
    "#Poisson\n",
    "# def find_n(prob_req, p, k):\n",
    "#     n = 0\n",
    "#     while True:\n",
    "#         Y = stats.poisson(p*n)\n",
    "#         res = 0\n",
    "#         for i in range(0, k + 1):\n",
    "#             res += Y.pmf(i)\n",
    "#         prob = 1 - res\n",
    "#         if prob > prob_req:\n",
    "#             return (\"Num Trials Required: {}\".format(n))\n",
    "#         n += 1\n",
    "        \n",
    "\n",
    "# print(\"Possion - {}\".format(find_n(0.75, 0.01, 0)))\n",
    "\n",
    "#binomial\n",
    "def find_n_bin(prob_req, p, k):\n",
    "    n = 0\n",
    "    while True:\n",
    "        Y = stats.binom(n,p)\n",
    "        res = 0\n",
    "        for i in range (0,k+1):\n",
    "            res += Y.pmf(i)\n",
    "        prob = 1 - res\n",
    "        if prob > prob_req:\n",
    "            return (\"Num Trials Required: {}\".format(n))\n",
    "        n += 1\n",
    "        \n",
    "\n",
    "print(\"Binomial - {}\".format(find_n_bin(0.75, 0.01, 0)))"
   ]
  },
  {
   "cell_type": "markdown",
   "metadata": {},
   "source": [
    "#### Answer the same question but where:\n",
    "#### 1.B.1 \n",
    "Products are 4% defective and we want a 95% probability of at least one defective product in the batch"
   ]
  },
  {
   "cell_type": "code",
   "execution_count": 29,
   "metadata": {},
   "outputs": [
    {
     "name": "stdout",
     "output_type": "stream",
     "text": [
      "Binomial - Num Trials Required: 74\n"
     ]
    }
   ],
   "source": [
    "# Using the same function defined above, simply modifing the input arguments to fit the given problem\n",
    "\n",
    "# print(find_n(0.95, 0.04, 0))\n",
    "print(\"Binomial - {}\".format(find_n_bin(0.95, 0.04, 0)))"
   ]
  },
  {
   "cell_type": "markdown",
   "metadata": {},
   "source": [
    "#### 1.B.2\n",
    "Products are 10% defective and we want a 90% probability of at least 5 defective products in the batch"
   ]
  },
  {
   "cell_type": "code",
   "execution_count": 28,
   "metadata": {},
   "outputs": [
    {
     "name": "stdout",
     "output_type": "stream",
     "text": [
      "Binomial - Num Trials Required: 78\n"
     ]
    }
   ],
   "source": [
    "# Using the original find_n that was constructed\n",
    "# print(find_n(0.9, 0.1, 5))\n",
    "print(\"Binomial - {}\".format(find_n_bin(0.9, 0.1, 4)))"
   ]
  },
  {
   "cell_type": "markdown",
   "metadata": {},
   "source": [
    "#### 1.B.3\n",
    "Products are 20% defective and we want a 90% probability of at least 10 defective products in the batch"
   ]
  },
  {
   "cell_type": "code",
   "execution_count": 27,
   "metadata": {},
   "outputs": [
    {
     "name": "stdout",
     "output_type": "stream",
     "text": [
      "Binomial - Num Trials Required: 69\n"
     ]
    }
   ],
   "source": [
    "# Using the same function as above with different values\n",
    "\n",
    "# print(find_n(0.9, 0.2, 10))\n",
    "print(\"Binomial - {}\".format(find_n_bin(0.9, 0.2, 9)))"
   ]
  },
  {
   "cell_type": "markdown",
   "metadata": {},
   "source": [
    "#### 1.C\n",
    "Can you comment on the difference between the answer 1.B.2 and that of 1.B.3?"
   ]
  },
  {
   "cell_type": "raw",
   "metadata": {},
   "source": [
    "The difference is significant because when we needed to find defective products we actually needed less samples.  because we need less samples to find more defects. But its due to the % of defective products. So its all cool."
   ]
  },
  {
   "cell_type": "markdown",
   "metadata": {},
   "source": [
    "### Question 2 - Formula"
   ]
  },
  {
   "cell_type": "markdown",
   "metadata": {},
   "source": [
    "#### 2.A\n",
    "Prove (you can use what you learned in class. In particular - linearity of variance for independent random variables):"
   ]
  },
  {
   "cell_type": "markdown",
   "metadata": {},
   "source": [
    "$$g(n,p) = \\sum_{k=0}^{n} {n \\choose k} k^2 p^k (1-p)^{(n-k)} = np\\big(1+p(n-1)\\big)$$"
   ]
  },
  {
   "cell_type": "markdown",
   "metadata": {},
   "source": [
    "#### Solution 2A\n",
    "\n",
    "Note that the given equation $$g(n,p) = \\sum_{k=0}^{n} {n \\choose k} k^2 p^k (1-p)^{(n-k)} = (E[X^2])$$\n",
    "\n",
    "Also recall from class that: $$V[X] = E[X^2] - (E[X])^2$$\n",
    "and that $$V[X] = np(1-p)$$\n",
    "and that $$E[X] = np$$\n",
    "and so, $$(E[X])^2 = (np)^2$$\n",
    "\n",
    "So we have   \n",
    "$1. E[X^2] =  V[X] + (E[X])^2$  \n",
    "$2.  = np(1-p) + (np)^2$  \n",
    "$3.  = np((1-p)+(np)) $  \n",
    "$4.  = np(1 - p + np) $  \n",
    "$5.  = np(1 + np - p) $  \n",
    "$6.  = np(1 + p(n - 1)) $\n"
   ]
  },
  {
   "cell_type": "markdown",
   "metadata": {},
   "source": [
    "#### 2.B\n",
    "Use this formula to compute  (n = 5000, p = 0.1, 0.2, 0.3). What is the complexity of this calculation, in terms of n?"
   ]
  },
  {
   "cell_type": "code",
   "execution_count": 8,
   "metadata": {},
   "outputs": [
    {
     "name": "stdout",
     "output_type": "stream",
     "text": [
      " p = 0.1 : 250450.00000000003 \n",
      " p = 0.2 : 1000800.0000000001 \n",
      " p = 0.3 : 2251050.0 \n",
      "Notice in line 2. above that we have a term of n to the power of 2,\n",
      "so we conclude the complexity is O(n^2)\n"
     ]
    }
   ],
   "source": [
    "prob_list = [0.1,0.2,0.3]\n",
    "for p in prob_list:\n",
    "    res = 5000*p*(1+p*(5000-1))\n",
    "    print (' p = {} : {} '.format(p,res))\n",
    "\n",
    "print('Notice in line 2. above that we have a term of n to the power of 2,')\n",
    "print(\"so we conclude the complexity is O(n^2)\")\n",
    "\n",
    "# Maya and Yuval: I think its O(5000) \\in O(1)"
   ]
  },
  {
   "cell_type": "markdown",
   "metadata": {},
   "source": [
    "#### 2.C\n",
    "Consider the function:\n",
    "$$f(n,p) = \\sum_{k=0}^{n} {n \\choose k} k^3 p^k (1-p)^{(n-k)}$$\n",
    "\n",
    "Describe how $f(n,p)$ can be computed using a process that requires a constant number of multiplications and additions, regardless of n.\n",
    "Use your process to compute the values of $f(n=10000, p=0.05, 0.1, 0.2, 0.3)$ in O(1).<br>\n",
    "Explain all your steps. \n",
    " "
   ]
  },
  {
   "cell_type": "code",
   "execution_count": 31,
   "metadata": {},
   "outputs": [
    {
     "name": "stdout",
     "output_type": "stream",
     "text": [
      " p = 0.005 : 49.2525 \n",
      " p = 0.1 : 720.0 \n",
      " p = 0.2 : 960.0 \n",
      " p = 0.3 : 840.0 \n"
     ]
    }
   ],
   "source": [
    "# We want to simply this so it doesnt have a sum\n",
    "# We saw at lecture 4, that the third raw moment can be expressed as np(1-p)(1-2p)\n",
    "prob_list = [0.005,0.1,0.2,0.3]\n",
    "for p in prob_list:\n",
    "    res = 10000*p*(1-p)*(1-2*p)\n",
    "    print (' p = {} : {} '.format(p,res))\n",
    "\n"
   ]
  },
  {
   "cell_type": "markdown",
   "metadata": {},
   "source": [
    "### Question 3 - Rent distributions in Randomistan"
   ]
  },
  {
   "cell_type": "markdown",
   "metadata": {},
   "source": [
    "The state of Randomistan conducted a survey to study the distribution of rent paid in two neighboring towns, Stochastic Heights and Random Grove, to be denoted SH and RG.<br> \n",
    "The population of SH and RG is 12K and 18K respectively. <br>\n",
    "Here are some findings of the survey:\n",
    "* The mean rent in SH and RG is 5100RCU and 3700RCU respectively.\n",
    "* The median rent is 4000RCU in both towns.\n",
    "* The IQR of the rent is smaller in SH than in RG.\n",
    "\n",
    "All data generated in this question needs to be consistent with these findings."
   ]
  },
  {
   "cell_type": "markdown",
   "metadata": {},
   "source": [
    "#### 3.A\n",
    "Draw histograms that describe 2 different scenarii of possible distributions of rent in the two towns.\u000b",
    "Your histograms should:<br>\n",
    "* Use bins of 100RCU each.\n",
    "* Have at least 10 non zero bins."
   ]
  },
  {
   "cell_type": "code",
   "execution_count": 45,
   "metadata": {
    "scrolled": true
   },
   "outputs": [
    {
     "name": "stdout",
     "output_type": "stream",
     "text": [
      "We want mean: 3700, median:4000\n",
      "Mean: 3712.878108920745, Median: 3996.0373491393457 \n",
      "IQR for SH 143.47537857437283\n"
     ]
    }
   ],
   "source": [
    "print('We want mean: 3700, median:4000')\n",
    "mu, sigma = 4000, 100\n",
    "s = np.random.normal(mu, sigma, 500)\n",
    "# print(np.mean(s), np.median(s))\n",
    "s_t=np.array([1, 1, 1, 1, 1, 1, 1, 1, 1, 1, 1, 1, 1, 1, 1, 1, 1, 1, 1, 1, 1,\n",
    "              0, 2, 0, 2, 0, 2, 0, 2, 0.5, 0.5, 0.5, 0.5, 0.5, 0.5, 3, 3, 3, 3, 3, 3\n",
    "#              ])\n",
    "#              4000, 4000, 4000, 4000,\n",
    "#              4000, 4000, 4000, 4000, 4000, 4000, 4000, 4000,\n",
    "              , 4000, 4000, 4000, 4000, 4000, 4000, 4000, 4000,\n",
    "              4000, 4000, 4000, 4000, 4000, 4000, 4000, 4000,\n",
    "              4000, 4000, 4000, 4000, 4000, 4000, 4000, 4000, 4000])\n",
    "s_1 = np.concatenate((s,s_t),axis=0)\n",
    "print('Mean: {}, Median: {} '.format((np.mean(s_1)), (np.median(s_1))))\n",
    "print('IQR for SH {}'.format(stats.iqr(s_1)))"
   ]
  },
  {
   "cell_type": "code",
   "execution_count": 97,
   "metadata": {},
   "outputs": [
    {
     "name": "stdout",
     "output_type": "stream",
     "text": [
      "We want mean: 5100, median:4000\n",
      "Mean: 5100, Median: 4000 \n",
      "IQR for RG 166.04335811719466\n"
     ]
    }
   ],
   "source": [
    "np.random.seed(101)\n",
    "print('We want mean: 5100, median:4000')\n",
    "mu, sigma = 4000, 100\n",
    "s = np.random.normal(mu, sigma, 500)\n",
    "s_t =np.array([1, 1, 1, 1, 1, 1, 1, 1, 1, 1, 1, 1, 1,1, 1, 1, 1, 1, 1, 1, 1, 1, 1, 1, 1, 1, 1, 1, 1, 1, 1, 1, 1, 1, 1, 1, \n",
    "               4000, 4000, 4000, 4000, 690100, 5000, 5000, 4000, 4000, 4000, 4000, 4000])\n",
    "s_t2 = np.concatenate((s_t, np.arange(5000, 10000, 200)))\n",
    "s_2 = np.concatenate((s,s_t2),axis=0)\n",
    "print('Mean: {}, Median: {} '.format(int(np.mean(s_2)), int(np.median(s_2))))\n",
    "print('IQR for RG {}'.format(stats.iqr(s_2)))"
   ]
  },
  {
   "cell_type": "code",
   "execution_count": 48,
   "metadata": {},
   "outputs": [],
   "source": [
    "# plt.hist(s_1,bins=100)\n",
    "#bins=100\n",
    "#plt.hist(s_1, bins, alpha=0.5, label='x')\n",
    "# plt.hist(s_2, bins, alpha=0.5, label='y')"
   ]
  },
  {
   "cell_type": "code",
   "execution_count": 12,
   "metadata": {},
   "outputs": [
    {
     "data": {
      "text/plain": [
       "array([[<matplotlib.axes._subplots.AxesSubplot object at 0x123393590>]],\n",
       "      dtype=object)"
      ]
     },
     "execution_count": 12,
     "metadata": {},
     "output_type": "execute_result"
    },
    {
     "data": {
      "image/png": "[encoded data removed]",
      "text/plain": [
       "<Figure size 360x360 with 1 Axes>"
      ]
     },
     "metadata": {
      "needs_background": "light"
     },
     "output_type": "display_data"
    },
    {
     "data": {
      "image/png": "[encoded data removed]",
      "text/plain": [
       "<Figure size 360x360 with 1 Axes>"
      ]
     },
     "metadata": {
      "needs_background": "light"
     },
     "output_type": "display_data"
    }
   ],
   "source": [
    "n = 20\n",
    "loc = 0\n",
    "p = 0.5\n",
    "\n",
    "#Find n and p by the given data\n",
    "# median(n, p, loc=0) - Median of the distribution.\n",
    "\n",
    "# mean(n, p, loc=0) - Mean of the distribution.\n",
    "\n",
    "\n",
    "SH = stats.binom.rvs(n, p, loc=loc, size=12000)\n",
    "RG = stats.binom.rvs(n, p, loc=loc, size=18000)\n",
    "\n",
    "pd.DataFrame(s_1).hist(bins=100, \n",
    "                          figsize=(5,5),\n",
    "                          edgecolor=\"k\", linewidth=1)\n",
    "pd.DataFrame(s_2).hist(bins=100, \n",
    "                          figsize=(5,5),\n",
    "                          edgecolor=\"k\", linewidth=1)"
   ]
  },
  {
   "cell_type": "markdown",
   "metadata": {},
   "source": [
    "#### 3.B\n",
    "Draw a histogram of a third scenario with the same properties. <br>\n",
    "In addition, in this scenario the rent in SH should have a higher variance than the rent in RG "
   ]
  },
  {
   "cell_type": "code",
   "execution_count": 100,
   "metadata": {},
   "outputs": [
    {
     "name": "stdout",
     "output_type": "stream",
     "text": [
      "SH 1085633.1233944322\n",
      "RG 821926819.9601365\n"
     ]
    }
   ],
   "source": [
    "print('SH {}'.format(np.var(s_1)))\n",
    "print('RG {}'.format(np.var(s_2)))"
   ]
  },
  {
   "cell_type": "markdown",
   "metadata": {},
   "source": [
    "The survey also examined the per household income (PHI) in these two places.<br>\n",
    "It found that:<br>\n",
    "* The mean of PHI in SH is 12500 and in RG is 8500\n",
    "* The median is 12000 in SH and 8000 in RG\n",
    "* The covariance of the rent and the PHI was observed to be as in the formula below with $\\alpha=97\\%$ and $\\alpha=89\\%$ in SH and in RG respectively.<br><br>\n",
    "$$Cov(rent, PHI) = \\alpha * \\sqrt{Var(rent)} * \\sqrt{Var(PHI)}$$\n",
    "\n",
    "#### 3.C\n",
    "Produce rent and PHI data for the two cities, that is consistent with these findings. The covariances in your data can deviate by up to 1% from the numbers given $\\alpha$."
   ]
  },
  {
   "cell_type": "code",
   "execution_count": null,
   "metadata": {},
   "outputs": [],
   "source": []
  },
  {
   "cell_type": "markdown",
   "metadata": {},
   "source": [
    "#### 3.D\n",
    "Produce two heatmaps that describe these two bivariate joint distributions. Make sure you carefully consider the selcted bining resolution."
   ]
  },
  {
   "cell_type": "code",
   "execution_count": null,
   "metadata": {},
   "outputs": [],
   "source": []
  },
  {
   "cell_type": "markdown",
   "metadata": {},
   "source": [
    "### Question 4 - Covariance and independence"
   ]
  },
  {
   "cell_type": "markdown",
   "metadata": {},
   "source": [
    "#### 4.A\n",
    "Define two random variables X and Y over the same probability space so that<br>\n",
    "* E(X) = the sum of digits of the date you were born on (sum of all in DD/MM/YYYY)\n",
    "* E(Y) = the sum of the two last digits of your id number\n",
    "\n",
    "And so that X and Y are:\n",
    "* NOT correlated (Cov(X,Y) = 0) and NOT independent."
   ]
  },
  {
   "cell_type": "code",
   "execution_count": 106,
   "metadata": {},
   "outputs": [],
   "source": [
    "rv_red = stats.binom(100, 0.28)\n"
   ]
  },
  {
   "cell_type": "markdown",
   "metadata": {},
   "source": [
    "#### 4.B\n",
    "Can you define random variables that are independent and so that Cov(X,Y) > 0?<br>\n",
    "Explain.\n"
   ]
  },
  {
   "cell_type": "code",
   "execution_count": null,
   "metadata": {},
   "outputs": [],
   "source": []
  },
  {
   "cell_type": "markdown",
   "metadata": {},
   "source": [
    "### Question 5 - Convolutions"
   ]
  },
  {
   "cell_type": "markdown",
   "metadata": {},
   "source": [
    "#### 5.A\n",
    "Write a program, `Q = NFoldConv(P , n)`, that takes as input:\n",
    "* A distribution, P, of a random variable that takes finitely many integer values\n",
    "* An integer n\n",
    "\n",
    "and produces the distribution, Q, of the sum of n independent repeats of random variables, each of which has the distribution P."
   ]
  },
  {
   "cell_type": "code",
   "execution_count": null,
   "metadata": {},
   "outputs": [],
   "source": []
  },
  {
   "cell_type": "markdown",
   "metadata": {},
   "source": [
    "#### 5.B\n",
    "Compute the distribution of the sum of the results of rolling a fair dice 8 times"
   ]
  },
  {
   "cell_type": "code",
   "execution_count": null,
   "metadata": {},
   "outputs": [],
   "source": []
  },
  {
   "cell_type": "markdown",
   "metadata": {},
   "source": [
    "#### 5.C\n",
    "Assume that the price of a stock changes in any given day according to (in NIS):\n",
    "$$P=\\begin{pmatrix}\n",
    "-1 & 0 & 1 & 2 & 3 \\\\\n",
    "0.2 & 0.25 & 0.35 & 0.05 & 0.15\n",
    "\\end{pmatrix}$$\n",
    "\n",
    "1. What is the distribution of the change in stock after 2 consecutive days of (independent) changes? After 5 consecutive days? "
   ]
  },
  {
   "cell_type": "code",
   "execution_count": null,
   "metadata": {},
   "outputs": [],
   "source": []
  },
  {
   "cell_type": "markdown",
   "metadata": {},
   "source": [
    "2. What is the probability that the stock has gained strictly more than 7NIS after 5 days? \u000b",
    "Has lost strictly more than 7NIS?"
   ]
  },
  {
   "cell_type": "code",
   "execution_count": null,
   "metadata": {},
   "outputs": [],
   "source": []
  },
  {
   "cell_type": "markdown",
   "metadata": {},
   "source": [
    "### Question 6 - Poisson mode"
   ]
  },
  {
   "cell_type": "markdown",
   "metadata": {},
   "source": [
    "Let $X\\sim{}Poi(λ)$<br>\n",
    "#### 6.A\n",
    "Find the mode of X and prove your calculation."
   ]
  },
  {
   "cell_type": "code",
   "execution_count": null,
   "metadata": {},
   "outputs": [],
   "source": [
    "https://www.itl.nist.gov/div898/handbook/eda/section3/eda366j.htm"
   ]
  },
  {
   "cell_type": "markdown",
   "metadata": {},
   "source": [
    "#### 6.B\n",
    "Plot the pdf of $X$ for $\\lambda=4, \\lambda=9.3, \\lambda=25.8$.<br>\n",
    "Show the following quantities on your plots:\n",
    "* The mode of $X$\n",
    "* The median of $X$\n",
    "* $\\mu(X)$"
   ]
  },
  {
   "cell_type": "code",
   "execution_count": null,
   "metadata": {},
   "outputs": [],
   "source": []
  },
  {
   "cell_type": "code",
   "execution_count": null,
   "metadata": {},
   "outputs": [],
   "source": []
  }
 ],
 "metadata": {
  "kernelspec": {
   "display_name": "Python 3",
   "language": "python",
   "name": "python3"
  },
  "language_info": {
   "codemirror_mode": {
    "name": "ipython",
    "version": 3
   },
   "file_extension": ".py",
   "mimetype": "text/x-python",
   "name": "python",
   "nbconvert_exporter": "python",
   "pygments_lexer": "ipython3",
   "version": "3.7.4"
  }
 },
 "nbformat": 4,
 "nbformat_minor": 2
}
