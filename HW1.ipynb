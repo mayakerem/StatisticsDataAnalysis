{
 "cells": [
  {
   "cell_type": "markdown",
   "metadata": {},
   "source": [
    "### IDs:\n",
    "Insert yours IDs to the cell below"
   ]
  },
  {
   "cell_type": "markdown",
   "metadata": {},
   "source": [
    "ID #1:329827190\n",
    "\n",
    "ID #2:204818181\n"
   ]
  },
  {
   "cell_type": "markdown",
   "metadata": {},
   "source": [
    "## Read the following instructions carefully:\n",
    "\n",
    "1. This jupyter notebook contains all the step by step instructions needed for this exercise.\n",
    "1. You are free to add cells.\n",
    "1. Write your functions and your answers in this jupyter notebook only.\n",
    "1. Answers to theoretical questions should be written in **markdown cells (with $\\LaTeX$ support)**.\n",
    "1. Submit this jupyter notebook only using your ID as a filename. Not to use ZIP or RAR. For example, your Moodle submission file name should look like this (two id numbers): `123456789_987654321.ipynb`."
   ]
  },
  {
   "cell_type": "code",
   "execution_count": 1,
   "metadata": {},
   "outputs": [],
   "source": [
    "from scipy import stats \n",
    "import pandas as pd\n",
    "import matplotlib.pyplot as plt\n",
    "import numpy as np\n",
    "from random import randrange\n",
    "%matplotlib inline"
   ]
  },
  {
   "cell_type": "markdown",
   "metadata": {},
   "source": [
    "### Question 1 - Defective products"
   ]
  },
  {
   "cell_type": "markdown",
   "metadata": {},
   "source": [
    "In a manufacturing pipeline products are 1% defective. We are interested in examining a defective product to see what goes wrong on the belt. We need to ask the facility manager to send us a set of independent samples for examination."
   ]
  },
  {
   "cell_type": "markdown",
   "metadata": {},
   "source": [
    "#### 1.A\n",
    "\n",
    "How many independent samples should we ask for in order to have a 75% probability of having at least one defective product in the batch sent?\n",
    "Write a function that computes this."
   ]
  },
  {
   "cell_type": "markdown",
   "metadata": {},
   "source": [
    "***Answer:***"
   ]
  },
  {
   "cell_type": "code",
   "execution_count": 2,
   "metadata": {},
   "outputs": [
    {
     "name": "stdout",
     "output_type": "stream",
     "text": [
      "Num Trials Required: 138\n"
     ]
    }
   ],
   "source": [
    "# Notice that this is a Binomial distribution where p = 0.01. \n",
    "# We will find the number of samples required by finding the probability by increasing n\n",
    "# until we get the desired probability\n",
    "\n",
    "def find_n_bin(prob_req, p, k):\n",
    "    n = 0\n",
    "    while True:\n",
    "        Y = stats.binom(n,p)\n",
    "        res = 0\n",
    "        for i in range (0,k+1):\n",
    "            res += Y.pmf(i)\n",
    "        prob = 1 - res\n",
    "        if prob > prob_req:\n",
    "            return (\"Num Trials Required: {}\".format(n))\n",
    "        n += 1\n",
    "        \n",
    "\n",
    "print(find_n_bin(0.75, 0.01, 0))"
   ]
  },
  {
   "cell_type": "markdown",
   "metadata": {},
   "source": [
    "#### Answer the same question but where:\n",
    "#### 1.B.1 \n",
    "Products are 4% defective and we want a 95% probability of at least one defective product in the batch"
   ]
  },
  {
   "cell_type": "markdown",
   "metadata": {},
   "source": [
    "***Answer:***"
   ]
  },
  {
   "cell_type": "code",
   "execution_count": 3,
   "metadata": {},
   "outputs": [
    {
     "name": "stdout",
     "output_type": "stream",
     "text": [
      "Num Trials Required: 74\n"
     ]
    }
   ],
   "source": [
    "# Using the same function defined above, simply modifing the input arguments to fit the given problem\n",
    "\n",
    "print(find_n_bin(0.95, 0.04, 0))"
   ]
  },
  {
   "cell_type": "markdown",
   "metadata": {},
   "source": [
    "#### 1.B.2\n",
    "Products are 10% defective and we want a 90% probability of at least 5 defective products in the batch"
   ]
  },
  {
   "cell_type": "markdown",
   "metadata": {},
   "source": [
    "***Answer:***"
   ]
  },
  {
   "cell_type": "code",
   "execution_count": 4,
   "metadata": {},
   "outputs": [
    {
     "name": "stdout",
     "output_type": "stream",
     "text": [
      "Num Trials Required: 78\n"
     ]
    }
   ],
   "source": [
    "# Using the original find_n that was constructed\n",
    "\n",
    "print(find_n_bin(0.9, 0.1, 4))"
   ]
  },
  {
   "cell_type": "markdown",
   "metadata": {},
   "source": [
    "#### 1.B.3\n",
    "Products are 20% defective and we want a 90% probability of at least 10 defective products in the batch"
   ]
  },
  {
   "cell_type": "markdown",
   "metadata": {},
   "source": [
    "***Answer:***"
   ]
  },
  {
   "cell_type": "code",
   "execution_count": 5,
   "metadata": {},
   "outputs": [
    {
     "name": "stdout",
     "output_type": "stream",
     "text": [
      "Num Trials Required: 69\n"
     ]
    }
   ],
   "source": [
    "# Using the same function as above with different values\n",
    "\n",
    "print(find_n_bin(0.9, 0.2, 9))"
   ]
  },
  {
   "cell_type": "markdown",
   "metadata": {},
   "source": [
    "#### 1.C\n",
    "Can you comment on the difference between the answer 1.B.2 and that of 1.B.3?"
   ]
  },
  {
   "cell_type": "markdown",
   "metadata": {},
   "source": [
    "***Answer:***\n",
    "\n",
    "The difference between the answers is counter intuitive:\n",
    "In general, we expect to need more trials to observe more defects. We might even expect the number of trials to be\n",
    "the some once we notice that we have twice the probability of defect, and half the number of desired defects.\n",
    "However, neither were the case: 78 trials for at least 5 defects, and 69 trials for twice as many (10) defects.\n",
    "\n"
   ]
  },
  {
   "cell_type": "markdown",
   "metadata": {},
   "source": [
    "### Question 2 - Formula"
   ]
  },
  {
   "cell_type": "markdown",
   "metadata": {},
   "source": [
    "#### 2.A\n",
    "Prove (you can use what you learned in class. In particular - linearity of variance for independent random variables):"
   ]
  },
  {
   "cell_type": "markdown",
   "metadata": {},
   "source": [
    "$$g(n,p) = \\sum_{k=0}^{n} {n \\choose k} k^2 p^k (1-p)^{(n-k)} = np\\big(1+p(n-1)\\big)$$"
   ]
  },
  {
   "cell_type": "markdown",
   "metadata": {},
   "source": [
    "***Answer:***"
   ]
  },
  {
   "cell_type": "markdown",
   "metadata": {},
   "source": [
    "Note that the given equation $$g(n,p) = \\sum_{k=0}^{n} {n \\choose k} k^2 p^k (1-p)^{(n-k)} = (E[X^2])$$\n",
    "\n",
    "Also recall from class that: $$V[X] = E[X^2] - (E[X])^2$$\n",
    "and that $$V[X] = np(1-p)$$\n",
    "and that $$E[X] = np$$\n",
    "and so, $$(E[X])^2 = (np)^2$$\n",
    "\n",
    "So we have \n",
    "\n",
    "1. $E[X^2] =  V[X] + (E[X])^2$  \n",
    "2.  $= np(1-p) + (np)^2$  \n",
    "3.  $= np((1-p)+(np)) $  \n",
    "4.  $= np(1 - p + np) $  \n",
    "5.  $= np(1 + np - p) $  \n",
    "6.  $= np(1 + p(n - 1)) $\n"
   ]
  },
  {
   "cell_type": "markdown",
   "metadata": {},
   "source": [
    "#### 2.B\n",
    "Use this formula to compute  (n = 5000, p = 0.1, 0.2, 0.3). What is the complexity of this calculation, in terms of n?"
   ]
  },
  {
   "cell_type": "markdown",
   "metadata": {},
   "source": [
    "***Answer:***"
   ]
  },
  {
   "cell_type": "code",
   "execution_count": 6,
   "metadata": {},
   "outputs": [
    {
     "name": "stdout",
     "output_type": "stream",
     "text": [
      " p = 0.1 : 250450 \n",
      " p = 0.2 : 1000800 \n",
      " p = 0.3 : 2251050 \n"
     ]
    }
   ],
   "source": [
    "prob_list = [0.1,0.2,0.3]\n",
    "for p in prob_list:\n",
    "    res = 5000*p*(1+p*(5000-1))\n",
    "    print (' p = {} : {} '.format(p,int(res)))\n"
   ]
  },
  {
   "cell_type": "markdown",
   "metadata": {},
   "source": [
    "As $n$ is a constant in this computation, we compute the complexity as $O(5000) \\in O(1)$"
   ]
  },
  {
   "cell_type": "markdown",
   "metadata": {},
   "source": [
    "#### 2.C\n",
    "Consider the function:\n",
    "$$f(n,p) = \\sum_{k=0}^{n} {n \\choose k} k^3 p^k (1-p)^{(n-k)}$$\n",
    "\n",
    "Describe how $f(n,p)$ can be computed using a process that requires a constant number of multiplications and additions, regardless of n.\n",
    "Use your process to compute the values of $f(n=10000, p=0.05, 0.1, 0.2, 0.3)$ in O(1).<br>\n",
    "Explain all your steps. \n",
    " "
   ]
  },
  {
   "cell_type": "markdown",
   "metadata": {},
   "source": [
    "***Answer:***\n",
    "\n",
    "Note that that $f(n,p)$ is the third raw moment for $X ~Bin(n,p)$\n",
    "\n",
    "The raw moment is formally defined as $\\mu_{3}^{'} = \\int_{-\\infty}^{+\\infty} x^{3} f(x)dx $ and the central moment is formally defined as $\\mu_{3} = \\int_{-\\infty}^{+\\infty} (x-\\mu)^{3} f(x) dx$ \n",
    "\n",
    "Recall that in lecture 4, we saw that the raw third moment of a random variable $X$ wher $X~Bin(n,p)$ equals $np(1-p)(1-2p)$\n",
    "\n",
    "By the formal definition \n",
    "$$np(1-p)(1-2p) = \\mathbf{E}((X-\\mu_{x})^{3})$$\n",
    "as $\\mathbf{E}(\\mu_{x}) = np$, \n",
    "$$ = \\mathbf{E}((X-np)^{3})$$\n",
    "$$ = \\mathbf{E}(X^{3} - 3X^{2}(np)+3X(np)^{2} - (np)^{3}) $$\n",
    "$$ = \\mathbf{E}(X^{3}) - \\mathbf{E}(3X^{2}(np)) + \\mathbf{E}(3X(np)^{2}) - \\mathbf{E}(np)^{3}) $$\n",
    "$$ = \\mathbf{E}(X^{3}) - 3(np)\\mathbf{E}(X^{2}) + 3(np)^{2}\\mathbf{E}(X) - (np)^{3} $$\n",
    "So we get that\n",
    "$$np(1-p)(1-2p) = \\mathbf{E}(X^{3}) - 3(np)\\mathbf{E}(X^{2}) + 3(np)^{2}\\mathbf{E}(X) - (np)^{3} $$\n",
    "$$- \\mathbf{E}(X^{3}) = -np(1-p)(1-2p) - 3(np)\\mathbf{E}(X^{2}) + 3(np)^{2}\\mathbf{E}(X) - (np)^{3} $$\n",
    "$$ \\mathbf{E}(X^{3}) = np(1-p)(1-2p) + 3(np)\\mathbf{E}(X^{2}) - 3(np)^{2}\\mathbf{E}(X) + (np)^{3} $$\n",
    "As $ \\mathbf{E}(X^{1}) = np $ and $ \\mathbf{E}(X^{2}) = np(1+p(n-1)) $\n",
    "$$ \\mathbf{E}(X^{3}) = np(1-p)(1-2p) + 3(np)(np(1+p(n-1))) - 3(np)^{2}(np) + (np)^{3} $$\n",
    "$$ \\mathbf{E}(X^{3}) = np(1-p)(1-2p) + 3(np)(np(1+p(n-1))) - 3(np)^{3} + (np)^{3} $$\n",
    "$$ \\mathbf{E}(X^{3}) = np(1-p)(1-2p) + 3(np)(np(1+p(n-1))) - 2(np)^{3}$$\n",
    "$$ \\mathbf{E}(X^{3}) = (np - np^{2})(1-2p) + 3(np^{2}(1+p(n-1))) - 2(np)^{3}$$\n",
    "$$ \\mathbf{E}(X^{3}) = (np -2np^{2} - np^{2} + 2np^{3}) + 3(np^{2} + np^{3}(n-1)) - 2(np)^{3}$$\n",
    "$$ \\mathbf{E}(X^{3}) = (np -2np^{2} - np^{2} + 2np^{3}) + 3(np^{2} + n^{2}p^{3} - np^{3}) - 2(np)^{3}$$\n",
    "$$ \\mathbf{E}(X^{3}) = np -2np^{2} - np^{2} + 2np^{3} + 3np^{2} + 3n^{2}p^{3} - 3np^{3} - 2(np)^{3}$$\n",
    "$$ \\mathbf{E}(X^{3}) = np + 3n^{2}p^{3} - np^{3} - 2(np)^{3}$$\n",
    "$$ \\mathbf{E}(X^{3}) = n(p + 3np^{3} - p^{3} - 2n^{2}p^{3})$$\n",
    "$$ \\mathbf{E}(X^{3}) = n(p + 3np^{3} - p^{3} - 2n^{2}p^{3})$$\n",
    "(MISSING ALGEBRA)\n",
    "\n",
    "$$\\mathbf{E}(X^{3}) = (n(n-1)(n-2)p^3) + 3(n(n-1)p^2) + np$$"
   ]
  },
  {
   "cell_type": "markdown",
   "metadata": {},
   "source": [
    "<center>Overall, this calculation runs in $O(1)$ for a constant $n$</center>"
   ]
  },
  {
   "cell_type": "code",
   "execution_count": 7,
   "metadata": {},
   "outputs": [
    {
     "name": "stdout",
     "output_type": "stream",
     "text": [
      " p = 0.05 : 125712927 \n",
      " p = 0.1 : 1002700720 \n",
      " p = 0.2 : 8009600960 \n",
      " p = 0.3 : 27018900839 \n"
     ]
    }
   ],
   "source": [
    "prob_list = [0.05,0.1,0.2,0.3]\n",
    "for p in prob_list:\n",
    "    res = (10000*(10000-1)*(10000-2)*p**3) + 3*(10000*(10000-1)*p**2) + (10000*p)\n",
    "    print (' p = {} : {} '.format(p,int(res)))\n",
    "    \n"
   ]
  },
  {
   "cell_type": "markdown",
   "metadata": {},
   "source": [
    "### Question 3 - Rent distributions in Randomistan"
   ]
  },
  {
   "cell_type": "markdown",
   "metadata": {},
   "source": [
    "The state of Randomistan conducted a survey to study the distribution of rent paid in two neighboring towns, Stochastic Heights and Random Grove, to be denoted SH and RG.<br> \n",
    "The population of SH and RG is 12K and 18K respectively. <br>\n",
    "Here are some findings of the survey:\n",
    "* The mean rent in SH and RG is 5100RCU and 3700RCU respectively.\n",
    "* The median rent is 4000RCU in both towns.\n",
    "* The IQR of the rent is smaller in SH than in RG.\n",
    "\n",
    "All data generated in this question needs to be consistent with these findings."
   ]
  },
  {
   "cell_type": "markdown",
   "metadata": {},
   "source": [
    "#### 3.A\n",
    "Draw histograms that describe 2 different scenarii of possible distributions of rent in the two towns.\u000b",
    "Your histograms should:<br>\n",
    "* Use bins of 100RCU each.\n",
    "* Have at least 10 non zero bins."
   ]
  },
  {
   "cell_type": "code",
   "execution_count": null,
   "metadata": {
    "scrolled": true
   },
   "outputs": [],
   "source": [
    "# Setting up SH\n",
    "\n",
    "# We use seed so we dont change the set of randomized numbers\n",
    "np.random.seed(101)\n",
    "\n",
    "mu, sigma = 4000, 100\n",
    "s = np.random.normal(mu, sigma, 500)\n",
    "s_t=np.array([1, 1, 1, 1, 1, 1, 1, 1, 1, 1, 1, 1, 1, 1, 1, 1, 1, 1, 1, 1, 1, 1, \n",
    "              0, 0, 0, 0, 0, 0, 0, 0, 0, 0, 0, 0, 0, 0, 0, 0, 0, 0, 0, 0, 500, \n",
    "              4000, 4000, 4000, 4000, 4000, 4000, 4000, 4000, 4000, 4000, 4000, \n",
    "              4000, 4000, 4000, 4000, 4000, 4000, 4000, 4000, 4000, 4000, 4000, \n",
    "              4000, 4000, 4000, 4000])\n",
    "s_1 = np.concatenate((s,s_t),axis=0)\n",
    "\n",
    "print('SH - Mean: {}, Median: {} , IQR: {}'.format(int(np.mean(s_1)), int(np.median(s_1)), int(stats.iqr(s_1))))\n",
    "\n",
    "# Setting up RG\n",
    "np.random.seed(101)\n",
    "\n",
    "mu, sigma = 4000, 100\n",
    "s = np.random.normal(mu, sigma, 500)\n",
    "s_t =np.array([4000, 4000, 4000, 4000, 4000, 4000, 4000, 4000, 4000, 4000, 4000,\n",
    "               4000, 4000, 4000, 4000, 4000, 4000, 4000, 4000, 4000, 4000, 4000, \n",
    "               4000, 4000, 4000, 4000, 4000, 4000, 4000, 4000, 4000, 4000, 4000, \n",
    "               4000, 4000, 4000, 4000, 4000, 4000, 4000, 4000, 4000, 4000, 4000, \n",
    "               4000, 4000, 4000, 4000, 4000, 4000, 4000, 4000, 4000, 4000, 4000, \n",
    "               4000, 4000, 4000, 4000, 4000, 4000, 4000, 4000, 4000, 4000, 4000, \n",
    "               4000, 4000, 4000, 9000, 9500, 9500, 8000, 9500, 9500, 9000, 9500, \n",
    "               4000, 4000, 9500, 9000, 9500, 6500, 6000, 9500, 9500, 8000, 9500, \n",
    "               4000, 4000, 9500, 9000, 9500, 6500, 8000, 9500, 9500, 8000, 9500, \n",
    "               4000, 4000, 9500, 9000, 9500, 6500, 8000, 9500, 9500, 8000, 9500, \n",
    "               4000, 4000,  9500, 8000, 7500, 8500, 6000, 8500, 4000, 4000, 9500, \n",
    "               9000, 8000, 7500, 8500, 18000, 8500, 4000, 4000, 4000, 4000, 4000, \n",
    "               9500, 9000, 8500, 15500, 15000, 8500, 9500, 8000, 8000, 8500, 8000, \n",
    "               4000, 4000, 15500, 9000, 9323, 18233, 8412, 9123, 8323, 15500, 8500, \n",
    "               8000, 16003, 15500, 15500, 15500, 15000, 15500, 15500, 15500, 16000, \n",
    "               16000, 16000, 16000, 55000, 15500, 15500, 15500, 15500, 15500, 16000, \n",
    "               16000, 55000, 15500, 15500, 15500, 15500, 15500, 16000, 15500, 15500, \n",
    "               16000, 55000, 15500, 15000, 15500, 15000, 1, 1, 1, 0, 0, 0, 0, 0, 0, \n",
    "               0, 0, 0, 0, 0, 0, 0, 0, 0, 0, 0, 0, 0, 0, 0, 0, 0])\n",
    "s_2 = np.concatenate((s,s_t),axis=0)\n",
    "\n",
    "print('RG - Mean: {}, Median: {} , IQR: {}'.format(int(np.mean(s_2)), int(np.median(s_2)), int(stats.iqr(s_2))))\n",
    "\n",
    "if (stats.iqr(s_1) < stats.iqr(s_2)):\n",
    "    print ('Fits IQR requiernments')\n",
    "    \n",
    "    \n",
    "figure, ax = plt.subplots(figsize = (20,10))\n",
    "ax.hist([s_1,s_2], bins = np.arange(min(s_1), max(s_2) + 100,), label=['SH','RG'])\n",
    "plt.title('Senario 1')\n",
    "plt.xlabel('RCU')\n",
    "plt.ylabel('Frequency')\n",
    "plt.legend()"
   ]
  },
  {
   "cell_type": "code",
   "execution_count": null,
   "metadata": {},
   "outputs": [],
   "source": [
    "# Setting up SH\n",
    "\n",
    "# We use seed so we dont change the set of randomized numbers\n",
    "np.random.seed(101)\n",
    "\n",
    "mu, sigma = 4000, 100\n",
    "s = np.random.normal(mu, sigma, 500)\n",
    "s_t=np.array([1, 1, 1, 1, 1, 1, 1, 1, 1, 1, 1, 1, 1, 1, 1, 1, 1, 1, 1, 1, 1, 1, \n",
    "              0, 0, 0, 0, 0, 0, 0, 4000, 4000, 4000, 4000, 4000, \n",
    "              4000, 4000, 4000, 4000])\n",
    "s_1 = np.concatenate((s,s_t),axis=0)\n",
    "\n",
    "print('SH - Mean: {}, Median: {} , IQR: {}'.format(int(np.mean(s_1)), int(np.median(s_1)), int(stats.iqr(s_1))))\n",
    "\n",
    "# Setting up RG\n",
    "np.random.seed(101)\n",
    "\n",
    "mu, sigma = 4000, 100\n",
    "s = np.random.normal(mu, sigma, 500)\n",
    "s_t =np.array([4000, 4000, 4000, 4000, 4000, 4000, 4000, 4000, 4000, 4000, 4000,\n",
    "               4000, 4000, 4000, 4000, 4000, 4000, 4000, 4000, 4000, 4000, 4000, \n",
    "               4000, 4000, 4000, 4000, 4000, 4000, 4000, 4000, 4000, 4000, 4000, \n",
    "               4000, 4000, 4000, 4000, 4000, 4000, 4000, 4000, 4000, 4000, 4000, \n",
    "               4000, 4000, 4000, 9500, 8000, 8000, 8500, 8000, \n",
    "               4000, 4000, 15500, 9000, 9323, 18233, 8412, 9123, 8323, 15500, 8500, \n",
    "               8000, 16003,  1, 1, 1, 0, 0, 0, 0, 0, 0, \n",
    "               0, 0, 0, 0, 0, 0, 0, 0, 0, 0, 0, 0, 0, 0, 0, 0, 0])\n",
    "s_2 = np.concatenate((s,s_t),axis=0)\n",
    "\n",
    "print('RG - Mean: {}, Median: {} , IQR: {}'.format(int(np.mean(s_2)), int(np.median(s_2)), int(stats.iqr(s_2))))\n",
    "\n",
    "if (stats.iqr(s_1) < stats.iqr(s_2)):\n",
    "    print ('Fits IQR requiernments')\n",
    "    \n",
    "    \n",
    "figure, ax = plt.subplots(figsize = (20,10))\n",
    "ax.hist([s_1,s_2], bins = np.arange(min(s_1), max(s_2)), label=['SH','RG'])\n",
    "plt.title('Senario 2')\n",
    "plt.xlabel('RCU')\n",
    "plt.ylabel('Frequency')\n",
    "plt.legend()"
   ]
  },
  {
   "cell_type": "markdown",
   "metadata": {},
   "source": [
    "#### 3.B\n",
    "Draw a histogram of a third scenario with the same properties. <br>\n",
    "In addition, in this scenario the rent in SH should have a higher variance than the rent in RG "
   ]
  },
  {
   "cell_type": "code",
   "execution_count": null,
   "metadata": {},
   "outputs": [],
   "source": [
    "print(\"Scenario 3\")\n",
    "\n",
    "# Setting up SH\n",
    "print('We want mean: 3700, median:4000')\n",
    "\n",
    "# We use seed so we dont change the set of randomized numbers\n",
    "np.random.seed(101)\n",
    "\n",
    "mu, sigma = 4000, 100\n",
    "s = np.random.normal(mu, sigma, 500)\n",
    "s_t=np.array([1, 4000])\n",
    "s_5 = np.concatenate((s,s_t),axis=0)\n",
    "\n",
    "print('Mean: {}, Median: {} , IQR: {}'.format(int(np.mean(s_5)), int(np.median(s_5)), int(stats.iqr(s_5))))\n",
    "print('='*20)\n",
    "print('We want mean: 5100, median:4000')\n",
    "\n",
    "np.random.seed(101)\n",
    "\n",
    "mu, sigma = 4000, 100\n",
    "s = np.random.normal(mu, sigma, 500)\n",
    "s_t =np.array([4000, 0, 0])\n",
    "s_6 = np.concatenate((s,s_t),axis=0)\n",
    "\n",
    "print('Mean: {}, Median: {} , IQR: {}'.format(int(np.mean(s_6)), int(np.median(s_6)), int(stats.iqr(s_6))))\n",
    "\n",
    "#Must be True\n",
    "print('SH {}'.format(int(np.var(s_5))))\n",
    "print('RG {}'.format(int(np.var(s_6))))\n",
    "\n",
    "print(np.var(s_5)>np.var(s_6))\n",
    "print(stats.iqr(s_5) < stats.iqr(s_6))\n",
    "\n",
    "\n",
    "figure, ax = plt.subplots(figsize = (20,10))\n",
    "ax.hist([s_1,s_2], bins = np.arange(min(s_1), max(s_2)), label=['SH','RG'])\n",
    "plt.title('Senario 3')\n",
    "plt.xlabel('RCU')\n",
    "plt.ylabel('Frequency')\n",
    "plt.legend()"
   ]
  },
  {
   "cell_type": "markdown",
   "metadata": {},
   "source": [
    "The survey also examined the per household income (PHI) in these two places.<br>\n",
    "It found that:<br>\n",
    "* The mean of PHI in SH is 12500 and in RG is 8500\n",
    "* The median is 12000 in SH and 8000 in RG\n",
    "* The covariance of the rent and the PHI was observed to be as in the formula below with $\\alpha=97\\%$ and $\\alpha=89\\%$ in SH and in RG respectively.<br><br>\n",
    "$$Cov(rent, PHI) = \\alpha * \\sqrt{Var(rent)} * \\sqrt{Var(PHI)}$$\n",
    "\n",
    "#### 3.C\n",
    "Produce rent and PHI data for the two cities, that is consistent with these findings. The covariances in your data can deviate by up to 1% from the numbers given $\\alpha$."
   ]
  },
  {
   "cell_type": "code",
   "execution_count": null,
   "metadata": {},
   "outputs": [],
   "source": []
  },
  {
   "cell_type": "markdown",
   "metadata": {},
   "source": [
    "#### 3.D\n",
    "Produce two heatmaps that describe these two bivariate joint distributions. Make sure you carefully consider the selcted bining resolution."
   ]
  },
  {
   "cell_type": "code",
   "execution_count": null,
   "metadata": {},
   "outputs": [],
   "source": []
  },
  {
   "cell_type": "markdown",
   "metadata": {},
   "source": [
    "### Question 4 - Covariance and independence"
   ]
  },
  {
   "cell_type": "markdown",
   "metadata": {},
   "source": [
    "#### 4.A\n",
    "Define two random variables X and Y over the same probability space so that<br>\n",
    "* E(X) = the sum of digits of the date you were born on (sum of all in DD/MM/YYYY)\n",
    "* E(Y) = the sum of the two last digits of your id number\n",
    "\n",
    "And so that X and Y are:\n",
    "* NOT correlated (Cov(X,Y) = 0) and NOT independent."
   ]
  },
  {
   "cell_type": "code",
   "execution_count": 11,
   "metadata": {},
   "outputs": [],
   "source": [
    "rv_red = stats.binom(100, 0.28)\n"
   ]
  },
  {
   "cell_type": "markdown",
   "metadata": {},
   "source": [
    "#### 4.B\n",
    "Can you define random variables that are independent and so that Cov(X,Y) > 0?<br>\n",
    "Explain.\n"
   ]
  },
  {
   "cell_type": "code",
   "execution_count": null,
   "metadata": {},
   "outputs": [],
   "source": []
  },
  {
   "cell_type": "markdown",
   "metadata": {},
   "source": [
    "### Question 5 - Convolutions"
   ]
  },
  {
   "cell_type": "markdown",
   "metadata": {},
   "source": [
    "#### 5.A\n",
    "Write a program, `Q = NFoldConv(P , n)`, that takes as input:\n",
    "* A distribution, P, of a random variable that takes finitely many integer values\n",
    "* An integer n\n",
    "\n",
    "and produces the distribution, Q, of the sum of n independent repeats of random variables, each of which has the distribution P."
   ]
  },
  {
   "cell_type": "code",
   "execution_count": 12,
   "metadata": {},
   "outputs": [
    {
     "ename": "AttributeError",
     "evalue": "module 'scipy.stats' has no attribute 'bernolli'",
     "output_type": "error",
     "traceback": [
      "\u001b[0;31m---------------------------------------------------------------------------\u001b[0m",
      "\u001b[0;31mAttributeError\u001b[0m                            Traceback (most recent call last)",
      "\u001b[0;32m<ipython-input-12-88bae7583435>\u001b[0m in \u001b[0;36m<module>\u001b[0;34m\u001b[0m\n\u001b[1;32m     11\u001b[0m     \u001b[0;34m\"T\"\u001b[0m\u001b[0;34m:\u001b[0m \u001b[0;36m0.5\u001b[0m\u001b[0;34m\u001b[0m\u001b[0;34m\u001b[0m\u001b[0m\n\u001b[1;32m     12\u001b[0m      }\n\u001b[0;32m---> 13\u001b[0;31m \u001b[0mstats\u001b[0m\u001b[0;34m.\u001b[0m\u001b[0mbernolli\u001b[0m\u001b[0;34m.\u001b[0m\u001b[0mrvs\u001b[0m\u001b[0;34m(\u001b[0m\u001b[0;36m3\u001b[0m\u001b[0;34m)\u001b[0m\u001b[0;34m\u001b[0m\u001b[0;34m\u001b[0m\u001b[0m\n\u001b[0m\u001b[1;32m     14\u001b[0m \u001b[0;31m#NFoldConv(rv, 3)\u001b[0m\u001b[0;34m\u001b[0m\u001b[0;34m\u001b[0m\u001b[0;34m\u001b[0m\u001b[0m\n\u001b[1;32m     15\u001b[0m \u001b[0mrv\u001b[0m\u001b[0;34m\u001b[0m\u001b[0;34m\u001b[0m\u001b[0m\n",
      "\u001b[0;31mAttributeError\u001b[0m: module 'scipy.stats' has no attribute 'bernolli'"
     ]
    }
   ],
   "source": [
    "def NFoldConv(p, n):\n",
    "    sum = 0\n",
    "    for i in range (0, n):\n",
    "        sum += rv\n",
    "    return sum\n",
    "\n",
    "\n",
    "\n",
    "rv = {\n",
    "    \"H\": 0.5 ,\n",
    "    \"T\": 0.5\n",
    "     }\n",
    "stats.bernolli.rvs(3)\n",
    "#NFoldConv(rv, 3)\n",
    "rv\n",
    "\n"
   ]
  },
  {
   "cell_type": "markdown",
   "metadata": {},
   "source": [
    "#### 5.B\n",
    "Compute the distribution of the sum of the results of rolling a fair dice 8 times"
   ]
  },
  {
   "cell_type": "code",
   "execution_count": null,
   "metadata": {},
   "outputs": [],
   "source": []
  },
  {
   "cell_type": "markdown",
   "metadata": {},
   "source": [
    "#### 5.C\n",
    "Assume that the price of a stock changes in any given day according to (in NIS):\n",
    "$$P=\\begin{pmatrix}\n",
    "-1 & 0 & 1 & 2 & 3 \\\\\n",
    "0.2 & 0.25 & 0.35 & 0.05 & 0.15\n",
    "\\end{pmatrix}$$\n",
    "\n",
    "1. What is the distribution of the change in stock after 2 consecutive days of (independent) changes? After 5 consecutive days? "
   ]
  },
  {
   "cell_type": "code",
   "execution_count": null,
   "metadata": {},
   "outputs": [],
   "source": []
  },
  {
   "cell_type": "markdown",
   "metadata": {},
   "source": [
    "2. What is the probability that the stock has gained strictly more than 7NIS after 5 days? \u000b",
    "Has lost strictly more than 7NIS?"
   ]
  },
  {
   "cell_type": "code",
   "execution_count": null,
   "metadata": {},
   "outputs": [],
   "source": []
  },
  {
   "cell_type": "markdown",
   "metadata": {},
   "source": [
    "### Question 6 - Poisson mode"
   ]
  },
  {
   "cell_type": "markdown",
   "metadata": {},
   "source": [
    "Let $X\\sim{}Poi(λ)$<br>\n",
    "#### 6.A\n",
    "Find the mode of X and prove your calculation."
   ]
  },
  {
   "cell_type": "code",
   "execution_count": null,
   "metadata": {},
   "outputs": [],
   "source": [
    "https://www.itl.nist.gov/div898/handbook/eda/section3/eda366j.htm"
   ]
  },
  {
   "cell_type": "markdown",
   "metadata": {},
   "source": [
    "#### 6.B\n",
    "Plot the pdf of $X$ for $\\lambda=4, \\lambda=9.3, \\lambda=25.8$.<br>\n",
    "Show the following quantities on your plots:\n",
    "* The mode of $X$\n",
    "* The median of $X$\n",
    "* $\\mu(X)$"
   ]
  },
  {
   "cell_type": "code",
   "execution_count": null,
   "metadata": {},
   "outputs": [],
   "source": []
  },
  {
   "cell_type": "code",
   "execution_count": null,
   "metadata": {},
   "outputs": [],
   "source": []
  }
 ],
 "metadata": {
  "kernelspec": {
   "display_name": "Python 3",
   "language": "python",
   "name": "python3"
  },
  "language_info": {
   "codemirror_mode": {
    "name": "ipython",
    "version": 3
   },
   "file_extension": ".py",
   "mimetype": "text/x-python",
   "name": "python",
   "nbconvert_exporter": "python",
   "pygments_lexer": "ipython3",
   "version": "3.7.4"
  }
 },
 "nbformat": 4,
 "nbformat_minor": 2
}
