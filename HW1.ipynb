{
 "cells": [
  {
   "cell_type": "markdown",
   "metadata": {},
   "source": [
    "### IDs:\n",
    "Insert yours IDs to the cell below"
   ]
  },
  {
   "cell_type": "markdown",
   "metadata": {},
   "source": [
    "ID #1:329827190\n",
    "\n",
    "ID #2:204818181\n"
   ]
  },
  {
   "cell_type": "markdown",
   "metadata": {},
   "source": [
    "## Read the following instructions carefully:\n",
    "\n",
    "1. This jupyter notebook contains all the step by step instructions needed for this exercise.\n",
    "1. You are free to add cells.\n",
    "1. Write your functions and your answers in this jupyter notebook only.\n",
    "1. Answers to theoretical questions should be written in **markdown cells (with $\\LaTeX$ support)**.\n",
    "1. Submit this jupyter notebook only using your ID as a filename. Not to use ZIP or RAR. For example, your Moodle submission file name should look like this (two id numbers): `123456789_987654321.ipynb`."
   ]
  },
  {
   "cell_type": "code",
   "execution_count": 271,
   "metadata": {},
   "outputs": [],
   "source": [
    "from scipy import stats \n",
    "import pandas as pd\n",
    "import matplotlib.pyplot as plt\n",
    "import numpy as np\n",
    "from random import randrange\n",
    "from itertools import product\n",
    "\n",
    "%matplotlib inline"
   ]
  },
  {
   "cell_type": "markdown",
   "metadata": {},
   "source": [
    "### Question 1 - Defective products"
   ]
  },
  {
   "cell_type": "markdown",
   "metadata": {},
   "source": [
    "In a manufacturing pipeline products are 1% defective. We are interested in examining a defective product to see what goes wrong on the belt. We need to ask the facility manager to send us a set of independent samples for examination."
   ]
  },
  {
   "cell_type": "markdown",
   "metadata": {},
   "source": [
    "#### 1.A\n",
    "\n",
    "How many independent samples should we ask for in order to have a 75% probability of having at least one defective product in the batch sent?\n",
    "Write a function that computes this."
   ]
  },
  {
   "cell_type": "markdown",
   "metadata": {},
   "source": [
    "***Answer:***"
   ]
  },
  {
   "cell_type": "code",
   "execution_count": 272,
   "metadata": {},
   "outputs": [
    {
     "name": "stdout",
     "output_type": "stream",
     "text": [
      "Num Trials Required: 138\n"
     ]
    }
   ],
   "source": [
    "# Notice that this is a Binomial distribution where p = 0.01. \n",
    "# We will find the number of samples required by finding the probability by increasing n\n",
    "# until we get the desired probability\n",
    "\n",
    "def find_n_bin(prob_req, p, k):\n",
    "    n = 0\n",
    "    while True:\n",
    "        Y = stats.binom(n,p)\n",
    "        res = 0\n",
    "        for i in range (0,k+1):\n",
    "            res += Y.pmf(i)\n",
    "        prob = 1 - res\n",
    "        if prob > prob_req:\n",
    "            return (\"Num Trials Required: {}\".format(n))\n",
    "        n += 1\n",
    "        \n",
    "\n",
    "print(find_n_bin(0.75, 0.01, 0))"
   ]
  },
  {
   "cell_type": "markdown",
   "metadata": {},
   "source": [
    "#### Answer the same question but where:\n",
    "#### 1.B.1 \n",
    "Products are 4% defective and we want a 95% probability of at least one defective product in the batch"
   ]
  },
  {
   "cell_type": "markdown",
   "metadata": {},
   "source": [
    "***Answer:***"
   ]
  },
  {
   "cell_type": "code",
   "execution_count": 273,
   "metadata": {},
   "outputs": [
    {
     "name": "stdout",
     "output_type": "stream",
     "text": [
      "Num Trials Required: 74\n"
     ]
    }
   ],
   "source": [
    "# Using the same function defined above, simply modifing the input arguments to fit the given problem\n",
    "\n",
    "print(find_n_bin(0.95, 0.04, 0))"
   ]
  },
  {
   "cell_type": "markdown",
   "metadata": {},
   "source": [
    "#### 1.B.2\n",
    "Products are 10% defective and we want a 90% probability of at least 5 defective products in the batch"
   ]
  },
  {
   "cell_type": "markdown",
   "metadata": {},
   "source": [
    "***Answer:***"
   ]
  },
  {
   "cell_type": "code",
   "execution_count": 274,
   "metadata": {},
   "outputs": [
    {
     "name": "stdout",
     "output_type": "stream",
     "text": [
      "Num Trials Required: 78\n"
     ]
    }
   ],
   "source": [
    "# Using the original find_n that was constructed\n",
    "\n",
    "print(find_n_bin(0.9, 0.1, 4))"
   ]
  },
  {
   "cell_type": "markdown",
   "metadata": {},
   "source": [
    "#### 1.B.3\n",
    "Products are 20% defective and we want a 90% probability of at least 10 defective products in the batch"
   ]
  },
  {
   "cell_type": "markdown",
   "metadata": {},
   "source": [
    "***Answer:***"
   ]
  },
  {
   "cell_type": "code",
   "execution_count": 275,
   "metadata": {},
   "outputs": [
    {
     "name": "stdout",
     "output_type": "stream",
     "text": [
      "Num Trials Required: 69\n"
     ]
    }
   ],
   "source": [
    "# Using the same function as above with different values\n",
    "\n",
    "print(find_n_bin(0.9, 0.2, 9))"
   ]
  },
  {
   "cell_type": "markdown",
   "metadata": {},
   "source": [
    "#### 1.C\n",
    "Can you comment on the difference between the answer 1.B.2 and that of 1.B.3?"
   ]
  },
  {
   "cell_type": "markdown",
   "metadata": {},
   "source": [
    "***Answer:***\n",
    "\n",
    "The difference between the answers is counter intuitive:\n",
    "In general, we expect to need more trials to observe more defects. We might even expect the number of trials to be\n",
    "the some once we notice that we have twice the probability of defect, and half the number of desired defects.\n",
    "However, neither were the case: 78 trials for at least 5 defects, and 69 trials for twice as many (10) defects.\n",
    "\n"
   ]
  },
  {
   "cell_type": "markdown",
   "metadata": {},
   "source": [
    "### Question 2 - Formula"
   ]
  },
  {
   "cell_type": "markdown",
   "metadata": {},
   "source": [
    "#### 2.A\n",
    "Prove (you can use what you learned in class. In particular - linearity of variance for independent random variables):"
   ]
  },
  {
   "cell_type": "markdown",
   "metadata": {},
   "source": [
    "$$g(n,p) = \\sum_{k=0}^{n} {n \\choose k} k^2 p^k (1-p)^{(n-k)} = np\\big(1+p(n-1)\\big)$$"
   ]
  },
  {
   "cell_type": "markdown",
   "metadata": {},
   "source": [
    "***Answer:***"
   ]
  },
  {
   "cell_type": "markdown",
   "metadata": {},
   "source": [
    "Note that the given equation $$g(n,p) = \\sum_{k=0}^{n} {n \\choose k} k^2 p^k (1-p)^{(n-k)} = (E[X^2])$$\n",
    "\n",
    "Also recall from class that: $$V[X] = E[X^2] - (E[X])^2$$\n",
    "and that $$V[X] = np(1-p)$$\n",
    "and that $$E[X] = np$$\n",
    "and so, $$(E[X])^2 = (np)^2$$\n",
    "\n",
    "So we have \n",
    "\n",
    "1. $E[X^2] =  V[X] + (E[X])^2$  \n",
    "2.  $= np(1-p) + (np)^2$  \n",
    "3.  $= np((1-p)+(np)) $  \n",
    "4.  $= np(1 - p + np) $  \n",
    "5.  $= np(1 + np - p) $  \n",
    "6.  $= np(1 + p(n - 1)) $\n"
   ]
  },
  {
   "cell_type": "markdown",
   "metadata": {},
   "source": [
    "#### 2.B\n",
    "Use this formula to compute  (n = 5000, p = 0.1, 0.2, 0.3). What is the complexity of this calculation, in terms of n?"
   ]
  },
  {
   "cell_type": "markdown",
   "metadata": {},
   "source": [
    "***Answer:***"
   ]
  },
  {
   "cell_type": "code",
   "execution_count": 276,
   "metadata": {},
   "outputs": [
    {
     "name": "stdout",
     "output_type": "stream",
     "text": [
      " p = 0.1 : 250450 \n",
      " p = 0.2 : 1000800 \n",
      " p = 0.3 : 2251050 \n"
     ]
    }
   ],
   "source": [
    "prob_list = [0.1,0.2,0.3]\n",
    "for p in prob_list:\n",
    "    res = 5000*p*(1+p*(5000-1))\n",
    "    print (' p = {} : {} '.format(p,int(res)))\n"
   ]
  },
  {
   "cell_type": "markdown",
   "metadata": {},
   "source": [
    "As $n$ is a constant in this computation, we compute the complexity as $O(5000) \\in O(1)$"
   ]
  },
  {
   "cell_type": "markdown",
   "metadata": {},
   "source": [
    "#### 2.C\n",
    "Consider the function:\n",
    "$$f(n,p) = \\sum_{k=0}^{n} {n \\choose k} k^3 p^k (1-p)^{(n-k)}$$\n",
    "\n",
    "Describe how $f(n,p)$ can be computed using a process that requires a constant number of multiplications and additions, regardless of n.\n",
    "Use your process to compute the values of $f(n=10000, p=0.05, 0.1, 0.2, 0.3)$ in O(1).<br>\n",
    "Explain all your steps. \n",
    " "
   ]
  },
  {
   "cell_type": "markdown",
   "metadata": {},
   "source": [
    "***Answer:***\n",
    "\n",
    "Note that that $f(n,p)$ is the third raw moment for $X$ ~ $Bin(n,p)$\n",
    "\n",
    "The raw moment is formally defined as $\\mu_{3}^{'} = \\int_{-\\infty}^{+\\infty} x^{3} f(x)dx $ and the central moment is formally defined as $\\mu_{3} = \\int_{-\\infty}^{+\\infty} (x-\\mu)^{3} f(x) dx$ \n",
    "\n",
    "Recall that in lecture 4, we saw that the cental third moment of a random variable $X$ where $X~Bin(n,p)$ equals $np(1-p)(1-2p)$\n",
    "\n",
    "By the formal definition \n",
    "$$np(1-p)(1-2p) = \\mathbf{E}((X-\\mu_{x})^{3})$$\n",
    "as $\\mathbf{E}(\\mu_{x}) = np$, \n",
    "$$ = \\mathbf{E}((X-np)^{3})$$\n",
    "$$ = \\mathbf{E}(X^{3} - 3X^{2}(np)+3X(np)^{2} - (np)^{3}) $$\n",
    "$$ = \\mathbf{E}(X^{3}) - \\mathbf{E}(3X^{2}(np)) + \\mathbf{E}(3X(np)^{2}) - \\mathbf{E}(np)^{3}) $$\n",
    "$$ = \\mathbf{E}(X^{3}) - 3(np)\\mathbf{E}(X^{2}) + 3(np)^{2}\\mathbf{E}(X) - (np)^{3} $$\n",
    "So we get that\n",
    "$$np(1-p)(1-2p) = \\mathbf{E}(X^{3}) - 3(np)\\mathbf{E}(X^{2}) + 3(np)^{2}\\mathbf{E}(X) - (np)^{3} $$\n",
    "$$- \\mathbf{E}(X^{3}) = -np(1-p)(1-2p) - 3(np)\\mathbf{E}(X^{2}) + 3(np)^{2}\\mathbf{E}(X) - (np)^{3} $$\n",
    "$$ \\mathbf{E}(X^{3}) = np(1-p)(1-2p) + 3(np)\\mathbf{E}(X^{2}) - 3(np)^{2}\\mathbf{E}(X) + (np)^{3} $$\n",
    "As $ \\mathbf{E}(X^{1}) = np $ and $ \\mathbf{E}(X^{2}) = np(1+p(n-1)) $\n",
    "$$ \\mathbf{E}(X^{3}) = np(1-p)(1-2p) + 3(np)(np(1+p(n-1))) - 3(np)^{2}(np) + (np)^{3} $$\n",
    "$$ \\mathbf{E}(X^{3}) = np(1-p)(1-2p) + 3(np)(np(1+p(n-1))) - 3(np)^{3} + (np)^{3} $$\n",
    "$$ \\mathbf{E}(X^{3}) = np(1-p)(1-2p) + 3(np)(np(1+p(n-1))) - 2(np)^{3}$$\n",
    "$$ \\mathbf{E}(X^{3}) = (np - np^{2})(1-2p) + 3(n^{2}p^{2}(1+p(n-1))) - 2(np)^{3}$$\n",
    "$$ \\mathbf{E}(X^{3}) = (np - np^{2})(1-2p) + 3(n^{2}p^{2}+n^{2}p^{3}(n-1)) - 2(np)^{3}$$\n",
    "$$ \\mathbf{E}(X^{3}) = (np - np^{2})(1-2p) + 3(n^{2}p^{2}+n^{3}p^{3}-n^{2}p^{3}) - 2(np)^{3}$$\n",
    "$$ \\mathbf{E}(X^{3}) = np - 2np^{2} - np^{2} + 2np^{3} + 3(n^{2}p^{2}+n^{3}p^{3}-n^{2}p^{3}) - 2(np)^{3}$$\n",
    "$$ \\mathbf{E}(X^{3}) = np - 2np^{2} - np^{2} + 2np^{3} + 3n^{2}p^{2}+3n^{3}p^{3}-3n^{2}p^{3} - 2(np)^{3}$$\n",
    "$$ \\mathbf{E}(X^{3}) = np - 3np^{2} + 2np^{3} + 3n^{2}p^{2} + n^{3}p^{3} - 3n^{2}p^{3}$$\n",
    "$$ \\mathbf{E}(X^{3}) = np +3n^{2}p^{2} - 3np^{2} + 2np^{3} + n^{3}p^{3} - 3n^{2}p^{3}$$\n",
    "$$ \\mathbf{E}(X^{3}) = np +3p^{2}(n^{2} - n) + 2np^{3} + n^{3}p^{3} - 3n^{2}p^{3}$$\n",
    "$$ \\mathbf{E}(X^{3}) = np +3p^{2}(n(n - 1)) + 2np^{3} + n^{3}p^{3} - 3n^{2}p^{3}$$\n",
    "$$ \\mathbf{E}(X^{3}) = np +3p^{2}(n(n - 1)) + n^{3}p^{3} - 3n^{2}p^{3}+ 2np^{3} $$\n",
    "$$ \\mathbf{E}(X^{3}) = np +3p^{2}(n(n - 1)) + n^{3}p^{3} - 2n^{2}p^{3} - n^{2}p^{3} + 2np^{3} $$\n",
    "$$ \\mathbf{E}(X^{3}) = np +3p^{2}(n(n - 1)) + np^{3}(n^{2} - 2n - n + 2) $$\n",
    "$$ \\mathbf{E}(X^{3}) = np +3p^{2}(n(n - 1)) + np^{3}((n-1)(n-2)) $$"
   ]
  },
  {
   "cell_type": "markdown",
   "metadata": {},
   "source": [
    "<center>Overall, this calculation runs in $O(1)$ for a constant $n$</center>"
   ]
  },
  {
   "cell_type": "code",
   "execution_count": 277,
   "metadata": {},
   "outputs": [
    {
     "name": "stdout",
     "output_type": "stream",
     "text": [
      " p = 0.05 : 125712927 \n",
      " p = 0.1 : 1002700720 \n",
      " p = 0.2 : 8009600960 \n",
      " p = 0.3 : 27018900839 \n"
     ]
    }
   ],
   "source": [
    "prob_list = [0.05,0.1,0.2,0.3]\n",
    "n = 10000\n",
    "for p in prob_list:\n",
    "    res = n*p + 3*(p**2)*(n*(n-1)) + n*(p**3)*((n-1)*(n-2))\n",
    "    print (' p = {} : {} '.format(p,int(res)))\n",
    "    \n"
   ]
  },
  {
   "cell_type": "markdown",
   "metadata": {},
   "source": [
    "### Question 3 - Rent distributions in Randomistan"
   ]
  },
  {
   "cell_type": "markdown",
   "metadata": {},
   "source": [
    "The state of Randomistan conducted a survey to study the distribution of rent paid in two neighboring towns, Stochastic Heights and Random Grove, to be denoted SH and RG.<br> \n",
    "The population of SH and RG is 12K and 18K respectively. <br>\n",
    "Here are some findings of the survey:\n",
    "* The mean rent in SH and RG is 5100RCU and 3700RCU respectively.\n",
    "* The median rent is 4000RCU in both towns.\n",
    "* The IQR of the rent is smaller in SH than in RG.\n",
    "\n",
    "All data generated in this question needs to be consistent with these findings."
   ]
  },
  {
   "cell_type": "markdown",
   "metadata": {},
   "source": [
    "#### 3.A\n",
    "Draw histograms that describe 2 different scenarii of possible distributions of rent in the two towns.\u000b",
    "Your histograms should:<br>\n",
    "* Use bins of 100RCU each.\n",
    "* Have at least 10 non zero bins."
   ]
  },
  {
   "cell_type": "markdown",
   "metadata": {},
   "source": [
    "***Answer:***"
   ]
  },
  {
   "cell_type": "code",
   "execution_count": 28,
   "metadata": {
    "scrolled": true
   },
   "outputs": [
    {
     "name": "stdout",
     "output_type": "stream",
     "text": [
      "SH - Mean: 3700, Median: 4000 , IQR: 157\n",
      "RG - Mean: 5100, Median: 4006 , IQR: 173\n",
      "Fits IQR requiernments\n"
     ]
    },
    {
     "data": {
      "text/plain": [
       "<matplotlib.legend.Legend at 0x132b25650>"
      ]
     },
     "execution_count": 28,
     "metadata": {},
     "output_type": "execute_result"
    },
    {
     "data": {
      "image/png": "[encoded data removed]",
      "text/plain": [
       "<Figure size 1296x576 with 1 Axes>"
      ]
     },
     "metadata": {
      "needs_background": "light"
     },
     "output_type": "display_data"
    }
   ],
   "source": [
    "# Setting up SH\n",
    "\n",
    "# We use seed so we dont change the set of randomized numbers\n",
    "np.random.seed(101)\n",
    "\n",
    "mu, sigma = 4000, 100\n",
    "s = np.random.normal(mu, sigma, 500)\n",
    "s_t=np.array([1, 1, 1, 1, 1, 1, 1, 1, 1, 1, 1, 1, 1, 1, 1, 1, 1, 1, 1, 1, 1, 1, \n",
    "              0, 0, 0, 0, 0, 0, 0, 0, 0, 0, 0, 0, 0, 0, 0, 0, 0, 0, 0, 0, 500, \n",
    "              4000, 4000, 4000, 4000, 4000, 4000, 4000, 4000, 4000, 4000, 4000, \n",
    "              4000, 4000, 4000, 4000, 4000, 4000, 4000, 4000, 4000, 4000, 4000, \n",
    "              4000, 4000, 4000, 4000])\n",
    "s_1 = np.concatenate((s,s_t),axis=0)\n",
    "\n",
    "print('SH - Mean: {}, Median: {} , IQR: {}'.format(int(np.mean(s_1)), int(np.median(s_1)), int(stats.iqr(s_1))))\n",
    "\n",
    "# Setting up RG\n",
    "np.random.seed(101)\n",
    "\n",
    "mu, sigma = 4000, 100\n",
    "s = np.random.normal(mu, sigma, 500)\n",
    "s_t =np.array([4000, 4000, 4000, 4000, 4000, 4000, 4000 , 4000, 4000, 4000, 4000,\n",
    "               4000, 4000, 4000, 4000, 4000, 4000, 4000, 4000, 4000, 4000, 4000, \n",
    "               4000, 4000, 4000, 4000, 4000, 4000, 4000, 4000, 4000, 4000, 4000, \n",
    "               4000, 4000, 4000, 4000, 4000, 4000, 4000, 4000, 4000, 4000, 4000, \n",
    "               4000, 4000, 4000, 4000, 4000, 4000, 4000, 4000, 4000, 4000, 4000, \n",
    "               4000, 4000, 4000, 4000, 4000, 4000, 4000, 4000, 4000, 4000, 4000, \n",
    "               4000, 4000, 4000, 9000, 9500, 9500, 8000, 9500, 9500, 9000, 9500, \n",
    "               4000, 4000, 9500, 9000, 9500, 6500, 6000, 9500, 9500, 8000, 9500, \n",
    "               4000, 4000, 9500, 9000, 9500, 6500, 8000, 9500, 9500, 8000, 9500, \n",
    "               4000, 4000, 9500, 9000, 9500, 6500, 8000, 9500, 9500, 8000, 9500, \n",
    "               4000, 4000,  9500, 8000, 7500, 8500, 6000, 8500, 4000, 4000, 9500, \n",
    "               9000, 8000, 7500, 8500, 18000, 8500, 4000, 4000, 4000, 4000, 4000, \n",
    "               9500, 9000, 8500, 15500, 15000, 8500, 9500, 8000, 8000, 9500, 8000, \n",
    "               4000, 4000, 15500, 9000, 9323, 18233, 8412, 9123, 8323 , 8323, 15500, \n",
    "               8500, 8000, 16003, 15500, 15500, 15500, 15000, 15500, 15500, 15500, \n",
    "               16000, 16000, 16000, 16000, 15500, 15500, 15500, 15500, 15500, 16000, \n",
    "               16000, 15500, 15500, 15500, 15500, 15500, 16000, 15500, 15500, \n",
    "               16000, 15500, 15000, 15500, 15000, 1, 1, 1, 0, 0, 0, 0, 0, 0, \n",
    "               0, 0, 0, 0, 0, 0, 0, 0, 0, 0, 0, 0, 0, 0, 0, 0, 0, 17500, 17500, \n",
    "               17500, 17500, 17500, 17500, 17500, 17500, 16500, 16500, 16500, 16500])\n",
    "s_2 = np.concatenate((s,s_t),axis=0)\n",
    "\n",
    "print('RG - Mean: {}, Median: {} , IQR: {}'.format(int(np.mean(s_2)), int(np.median(s_2)), int(stats.iqr(s_2))))\n",
    "\n",
    "if (stats.iqr(s_1) < stats.iqr(s_2)):\n",
    "    print ('Fits IQR requiernments')\n",
    "    \n",
    "    \n",
    "figure, ax = plt.subplots(figsize = (18,8))\n",
    "ax.hist([s_1,s_2], bins = np.arange(min(min(s_1),min(s_2)), max(max(s_1), max(s_2)), 100), label=['SH','RG'])\n",
    "plt.title('Senario 1')\n",
    "plt.xlabel('RCU')\n",
    "plt.ylabel('Frequency')\n",
    "plt.legend()"
   ]
  },
  {
   "cell_type": "code",
   "execution_count": 38,
   "metadata": {},
   "outputs": [
    {
     "name": "stdout",
     "output_type": "stream",
     "text": [
      "SH - Mean: 5100, Median: 5100 , IQR: 3325\n",
      "SH - Mean: 4001, Median: 4000 , IQR: 133\n"
     ]
    },
    {
     "data": {
      "text/plain": [
       "<matplotlib.legend.Legend at 0x134c78cd0>"
      ]
     },
     "execution_count": 38,
     "metadata": {},
     "output_type": "execute_result"
    },
    {
     "data": {
      "image/png": "[encoded data removed]",
      "text/plain": [
       "<Figure size 1296x576 with 1 Axes>"
      ]
     },
     "metadata": {
      "needs_background": "light"
     },
     "output_type": "display_data"
    }
   ],
   "source": [
    "# Senario 2\n",
    "# Setting up SH\n",
    "# We use seed so we dont change the set of randomized numbers\n",
    "np.random.seed(102)\n",
    "\n",
    "mu, sigma, pop = 4000, 100, 12000\n",
    "s = np.random.normal(mu, sigma, pop)\n",
    "# newley added terms\n",
    "s_t=np.array([2500,3000,3500, 3250, 3750, 4000, 6200, 7700, 7200, 6700, 6950, 6450])\n",
    "print('SH - Mean: {}, Median: {} , IQR: {}'.format(int(np.mean(s_t)), int(np.median(s_t)), int(stats.iqr(s_t))))\n",
    "\n",
    "s_1 = np.concatenate((s,s_t),axis=0)\n",
    "\n",
    "print('SH - Mean: {}, Median: {} , IQR: {}'.format(int(np.mean(s_1)), int(np.median(s_1)), int(stats.iqr(s_1))))\n",
    "\n",
    "# Setting up RG\n",
    "np.random.seed(102)\n",
    "\n",
    "mu, sigma, pop = 4000, 100, 18000\n",
    "s = np.random.normal(mu, sigma, 500)\n",
    "# newley added terms\n",
    "s_t =np.array([4000])\n",
    "s_2 = np.concatenate((s,s_t),axis=0)\n",
    "\n",
    "#print('RG - Mean: {}, Median: {} , IQR: {}'.format(int(np.mean(s_2)), int(np.median(s_2)), int(stats.iqr(s_2))))\n",
    "\n",
    "if (stats.iqr(s_1) < stats.iqr(s_2)):\n",
    "    print ('Fits IQR requiernments')\n",
    "    \n",
    "    \n",
    "figure, ax = plt.subplots(figsize = (18,8))\n",
    "ax.hist([s_1,s_2], bins = np.arange(min(min(s_1),min(s_2)), max(max(s_1), max(s_2)), 100), label=['SH','RG'])\n",
    "plt.title('Senario 1')\n",
    "plt.xlabel('RCU')\n",
    "plt.ylabel('Frequency')\n",
    "plt.legend()"
   ]
  },
  {
   "cell_type": "markdown",
   "metadata": {},
   "source": [
    "#### 3.B\n",
    "Draw a histogram of a third scenario with the same properties. <br>\n",
    "In addition, in this scenario the rent in SH should have a higher variance than the rent in RG "
   ]
  },
  {
   "cell_type": "markdown",
   "metadata": {},
   "source": [
    "***Answer:***"
   ]
  },
  {
   "cell_type": "code",
   "execution_count": null,
   "metadata": {},
   "outputs": [],
   "source": [
    "print(\"Scenario 3\")\n",
    "\n",
    "# Setting up SH\n",
    "print('We want mean: 3700, median:4000')\n",
    "\n",
    "# We use seed so we dont change the set of randomized numbers\n",
    "np.random.seed(101)\n",
    "\n",
    "mu, sigma = 4000, 100\n",
    "s = np.random.normal(mu, sigma, 500)\n",
    "s_t=np.array([1, 4000])\n",
    "s_5 = np.concatenate((s,s_t),axis=0)\n",
    "\n",
    "print('Mean: {}, Median: {} , IQR: {}'.format(int(np.mean(s_5)), int(np.median(s_5)), int(stats.iqr(s_5))))\n",
    "print('='*20)\n",
    "print('We want mean: 5100, median:4000')\n",
    "\n",
    "np.random.seed(101)\n",
    "\n",
    "mu, sigma = 4000, 100\n",
    "s = np.random.normal(mu, sigma, 500)\n",
    "s_t =np.array([4000, 0, 0])\n",
    "s_6 = np.concatenate((s,s_t),axis=0)\n",
    "\n",
    "print('Mean: {}, Median: {} , IQR: {}'.format(int(np.mean(s_6)), int(np.median(s_6)), int(stats.iqr(s_6))))\n",
    "\n",
    "#Must be True\n",
    "print('SH {}'.format(int(np.var(s_5))))\n",
    "print('RG {}'.format(int(np.var(s_6))))\n",
    "\n",
    "print(np.var(s_5)>np.var(s_6))\n",
    "print(stats.iqr(s_5) < stats.iqr(s_6))\n",
    "\n",
    "\n",
    "figure, ax = plt.subplots(figsize = (20,10))\n",
    "ax.hist([s_1,s_2], bins = np.arange(min(s_1), max(s_2)), label=['SH','RG'])\n",
    "plt.title('Senario 3')\n",
    "plt.xlabel('RCU')\n",
    "plt.ylabel('Frequency')\n",
    "plt.legend()"
   ]
  },
  {
   "cell_type": "markdown",
   "metadata": {},
   "source": [
    "The survey also examined the per household income (PHI) in these two places.<br>\n",
    "It found that:<br>\n",
    "* The mean of PHI in SH is 12500 and in RG is 8500\n",
    "* The median is 12000 in SH and 8000 in RG\n",
    "* The covariance of the rent and the PHI was observed to be as in the formula below with $\\alpha=97\\%$ and $\\alpha=89\\%$ in SH and in RG respectively.<br><br>\n",
    "$$Cov(rent, PHI) = \\alpha * \\sqrt{Var(rent)} * \\sqrt{Var(PHI)}$$\n",
    "\n",
    "#### 3.C\n",
    "Produce rent and PHI data for the two cities, that is consistent with these findings. The covariances in your data can deviate by up to 1% from the numbers given $\\alpha$."
   ]
  },
  {
   "cell_type": "markdown",
   "metadata": {},
   "source": [
    "***Answer:***"
   ]
  },
  {
   "cell_type": "code",
   "execution_count": null,
   "metadata": {},
   "outputs": [],
   "source": [
    "##rewrite\n",
    "\n",
    "# generate numbers that will give two covariances - one for SH and one for RG. These covariances cannot deviate by more than 1% from each other\n",
    "rg_rent = np.array([100,400,600,800,4000,4000,4200,4400,4700,8500,9000] * int(rg_pop/11))\n",
    "rg_rent_median = np.median(rg_rent)\n",
    "rg_rent_mean = np.mean(rg_rent)\n",
    "\n",
    "sh_rent = np.array([100,300,500,3650,4000,4000,8000,8300,8750,9100,9400] * int(sh_pop/11))\n",
    "sh_rent_median = np.median(sh_rent)\n",
    "sh_rent_mean = np.mean(sh_rent)\n",
    "\n",
    "rg_alpha = 0.89\n",
    "rg_phi = np.array([500,1100,1600,1900,2000,8000,10700,11600,18200,18600,19300] * int(rg_pop/11))\n",
    "rg_phi_median = np.median(rg_phi)\n",
    "rg_phi_mean = np.mean(rg_phi)\n",
    "rg_cov = np.cov(rg_rent, rg_phi)[0,1]\n",
    "\n",
    "sh_alpha = 0.97\n",
    "sh_phi = np.array([5000,6500,7900,11100,12000,12000,14150,15700,16150,17000,20000] * int(sh_pop/11))\n",
    "sh_phi_median = np.median(sh_phi)\n",
    "sh_phi_mean = np.mean(sh_phi)\n",
    "sh_cov = np.cov(sh_rent, sh_phi)[0,1]\n",
    "\n",
    "observed_cov_rg = rg_alpha * ((np.sqrt(np.var((rg_rent)))) * (np.sqrt(np.var((rg_phi)))))\n",
    "rel_diff_rg = np.abs((rg_cov - observed_cov_rg) / rg_cov * 100)\n",
    "observed_cov_sh = sh_alpha * ((np.sqrt(np.var((sh_rent)))) * (np.sqrt(np.var((sh_phi)))))\n",
    "rel_diff_sh = np.abs((sh_cov - observed_cov_sh) / sh_cov * 100)\n",
    "\n",
    "print(f\"The median rent of sh is {sh_rent_median}\")\n",
    "print(f\"The mean rent of sh is {sh_rent_mean}\")\n",
    "print(f\"The median phi of sh is {sh_phi_median}\")\n",
    "print(f\"The mean phi of sh is {sh_phi_mean}\")\n",
    "\n",
    "print(f\"The median rent of rg is {rg_rent_median}\")\n",
    "print(f\"The mean rent of rg is {rg_rent_mean}\")\n",
    "print(f\"The median phi of rg is {rg_phi_median}\")\n",
    "print(f\"The mean phi of rg is {rg_phi_mean}\")\n",
    "\n",
    "print(f\"The covariance of sh is {sh_cov}\")\n",
    "print(f\"The observed covariance (the formula with alpha) of sh is {observed_cov_sh}\")\n",
    "print(f\"The covariance of rg is {rg_cov}\")\n",
    "print(f\"The observed covariance (the formula with alpha) of rg is {observed_cov_rg}\")\n",
    "print(f\"The relative difference between the covariances of sh is: {round(rel_diff_sh,2)}%\")\n",
    "print(f\"The relative difference between the covariances of rg is: {round(rel_diff_rg,2)}%\")\n",
    "\n"
   ]
  },
  {
   "cell_type": "markdown",
   "metadata": {},
   "source": [
    "#### 3.D\n",
    "Produce two heatmaps that describe these two bivariate joint distributions. Make sure you carefully consider the selcted bining resolution."
   ]
  },
  {
   "cell_type": "markdown",
   "metadata": {},
   "source": [
    "***Answer:***"
   ]
  },
  {
   "cell_type": "code",
   "execution_count": 288,
   "metadata": {},
   "outputs": [
    {
     "ename": "NameError",
     "evalue": "name 'sh_rent' is not defined",
     "output_type": "error",
     "traceback": [
      "\u001b[0;31m---------------------------------------------------------------------------\u001b[0m",
      "\u001b[0;31mNameError\u001b[0m                                 Traceback (most recent call last)",
      "\u001b[0;32m<ipython-input-288-476e935c903f>\u001b[0m in \u001b[0;36m<module>\u001b[0;34m\u001b[0m\n\u001b[0;32m----> 1\u001b[0;31m \u001b[0msh_df_combinations\u001b[0m \u001b[0;34m=\u001b[0m \u001b[0mpd\u001b[0m\u001b[0;34m.\u001b[0m\u001b[0mDataFrame\u001b[0m\u001b[0;34m(\u001b[0m\u001b[0mproduct\u001b[0m\u001b[0;34m(\u001b[0m\u001b[0msh_rent\u001b[0m\u001b[0;34m,\u001b[0m \u001b[0msh_phi\u001b[0m\u001b[0;34m)\u001b[0m\u001b[0;34m,\u001b[0m \u001b[0mcolumns\u001b[0m\u001b[0;34m=\u001b[0m\u001b[0;34m[\u001b[0m\u001b[0;34m'rent'\u001b[0m\u001b[0;34m,\u001b[0m \u001b[0;34m'phi'\u001b[0m\u001b[0;34m]\u001b[0m\u001b[0;34m)\u001b[0m\u001b[0;34m\u001b[0m\u001b[0;34m\u001b[0m\u001b[0m\n\u001b[0m\u001b[1;32m      2\u001b[0m \u001b[0msh_rent_bin_width\u001b[0m \u001b[0;34m=\u001b[0m \u001b[0;36m500\u001b[0m\u001b[0;34m\u001b[0m\u001b[0;34m\u001b[0m\u001b[0m\n\u001b[1;32m      3\u001b[0m \u001b[0msh_phi_bin_width\u001b[0m \u001b[0;34m=\u001b[0m \u001b[0;36m1000\u001b[0m\u001b[0;34m\u001b[0m\u001b[0;34m\u001b[0m\u001b[0m\n\u001b[1;32m      4\u001b[0m \u001b[0msh_rent_bins\u001b[0m \u001b[0;34m=\u001b[0m \u001b[0mnp\u001b[0m\u001b[0;34m.\u001b[0m\u001b[0marange\u001b[0m\u001b[0;34m(\u001b[0m\u001b[0;36m0\u001b[0m\u001b[0;34m,\u001b[0m \u001b[0mmax\u001b[0m\u001b[0;34m(\u001b[0m\u001b[0msh_df_combinations\u001b[0m\u001b[0;34m[\u001b[0m\u001b[0;34m'rent'\u001b[0m\u001b[0;34m]\u001b[0m\u001b[0;34m)\u001b[0m \u001b[0;34m+\u001b[0m \u001b[0msh_rent_bin_width\u001b[0m\u001b[0;34m,\u001b[0m \u001b[0msh_rent_bin_width\u001b[0m\u001b[0;34m)\u001b[0m\u001b[0;34m\u001b[0m\u001b[0;34m\u001b[0m\u001b[0m\n\u001b[1;32m      5\u001b[0m \u001b[0msh_phi_bins\u001b[0m \u001b[0;34m=\u001b[0m \u001b[0mnp\u001b[0m\u001b[0;34m.\u001b[0m\u001b[0marange\u001b[0m\u001b[0;34m(\u001b[0m\u001b[0;36m0\u001b[0m\u001b[0;34m,\u001b[0m \u001b[0mmax\u001b[0m\u001b[0;34m(\u001b[0m\u001b[0msh_df_combinations\u001b[0m\u001b[0;34m[\u001b[0m\u001b[0;34m'phi'\u001b[0m\u001b[0;34m]\u001b[0m\u001b[0;34m)\u001b[0m \u001b[0;34m+\u001b[0m \u001b[0msh_phi_bin_width\u001b[0m\u001b[0;34m,\u001b[0m \u001b[0msh_phi_bin_width\u001b[0m\u001b[0;34m)\u001b[0m\u001b[0;34m\u001b[0m\u001b[0;34m\u001b[0m\u001b[0m\n",
      "\u001b[0;31mNameError\u001b[0m: name 'sh_rent' is not defined"
     ]
    }
   ],
   "source": [
    "#rewrite\n",
    "\n",
    "sh_df_combinations = pd.DataFrame(product(sh_rent, sh_phi), columns=['rent', 'phi'])\n",
    "sh_rent_bin_width = 500\n",
    "sh_phi_bin_width = 1000\n",
    "sh_rent_bins = np.arange(0, max(sh_df_combinations['rent']) + sh_rent_bin_width, sh_rent_bin_width)\n",
    "sh_phi_bins = np.arange(0, max(sh_df_combinations['phi']) + sh_phi_bin_width, sh_phi_bin_width)\n",
    "plt.figure(figsize=(8,8))\n",
    "plt.hist2d(sh_df_combinations['rent'], sh_df_combinations['phi'], bins=[sh_rent_bins, sh_phi_bins])\n",
    "plt.colorbar()\n",
    "plt.title(\"SH Heatmap\", fontsize=30)\n",
    "plt.xlabel(\"Rent\", fontsize=20)\n",
    "plt.ylabel(\"PHI\", fontsize=20)\n",
    "\n",
    "\n",
    "\n",
    "rg_df_combinations = pd.DataFrame(product(rg_rent, rg_phi), columns=['rent', 'phi'])\n",
    "rg_rent_bin_width = 500\n",
    "rg_phi_bin_width = 1000\n",
    "rg_rent_bins = np.arange(0, max(rg_df_combinations['rent']) + rg_rent_bin_width, rg_rent_bin_width)\n",
    "rg_phi_bins = np.arange(0, max(rg_df_combinations['phi']) + rg_phi_bin_width, rg_phi_bin_width)\n",
    "plt.figure(figsize=(8,8))\n",
    "plt.hist2d(rg_df_combinations['rent'], rg_df_combinations['phi'], bins=[rg_rent_bins, rg_phi_bins])\n",
    "plt.colorbar()\n",
    "plt.title(\"RG Heatmap\", fontsize=30)\n",
    "plt.xlabel(\"Rent\", fontsize=20)\n",
    "plt.ylabel(\"PHI\", fontsize=20)"
   ]
  },
  {
   "cell_type": "markdown",
   "metadata": {},
   "source": [
    "### Question 4 - Covariance and independence"
   ]
  },
  {
   "cell_type": "markdown",
   "metadata": {},
   "source": [
    "#### 4.A\n",
    "Define two random variables X and Y over the same probability space so that<br>\n",
    "* E(X) = the sum of digits of the date you were born on (sum of all in DD/MM/YYYY)\n",
    "* E(Y) = the sum of the two last digits of your id number\n",
    "\n",
    "And so that X and Y are:\n",
    "* NOT correlated (Cov(X,Y) = 0) and NOT independent."
   ]
  },
  {
   "cell_type": "markdown",
   "metadata": {},
   "source": [
    "***Answer:***"
   ]
  },
  {
   "cell_type": "code",
   "execution_count": 287,
   "metadata": {},
   "outputs": [
    {
     "ename": "SyntaxError",
     "evalue": "invalid syntax (<ipython-input-287-18e60d7f6414>, line 27)",
     "output_type": "error",
     "traceback": [
      "\u001b[0;36m  File \u001b[0;32m\"<ipython-input-287-18e60d7f6414>\"\u001b[0;36m, line \u001b[0;32m27\u001b[0m\n\u001b[0;31m    Next we will show X and Y are not independent:<br><br>\u001b[0m\n\u001b[0m          ^\u001b[0m\n\u001b[0;31mSyntaxError\u001b[0m\u001b[0;31m:\u001b[0m invalid syntax\n"
     ]
    }
   ],
   "source": [
    "#rewrite\n",
    "\n",
    "sum_bday_digits = 2 + 4 + 6 + 1 + 9 + 8 + 8\n",
    "sum_last_two_id = 3 + 6\n",
    "print(\"The sum of birthday digits is\", sum_bday_digits)\n",
    "print(\"The sum of two last ID digits is\", sum_last_two_id)\n",
    "\n",
    "# random variable z\n",
    "z = np.array([-1, 0, 1])\n",
    "p_z = np.array([1/3, 1/3, 1/3])\n",
    "e_z = np.sum(np.multiply(z, p_z))\n",
    "e_z_sq = np.sum(np.multiply(z**2, p_z))\n",
    "\n",
    "# random variables X and Y defined over the same probability space\n",
    "x = z + (sum_bday_digits - e_z)  # z + 38\n",
    "y = z**2 + (sum_last_two_id - e_z_sq)  # = z**2 + 25/3\n",
    "\n",
    "# expectations of X and Y\n",
    "e_x = np.sum(np.multiply(x, p_z))\n",
    "e_y = np.sum(np.multiply(y, p_z))\n",
    "print(\"E(X) =\", e_x)\n",
    "print(\"E(Y) =\", e_y)\n",
    "\n",
    "# calculate covariance\n",
    "cov_x_y = np.cov(x,y)[0, 1]\n",
    "print(\"Cov(X,Y) =\", cov_x_y)\n",
    "\n",
    "\n",
    "#comments\n",
    "\n",
    "Next we will show X and Y are not independent:<br><br>\n",
    "P(X=38) = P(Z+38=38) = P(Z=0) = 1/3<br>\n",
    "P(X=38 | Y=25/3) = P(Z+38=38 | Z**2 + 25/3 = 25/3) = P(Z=0 | Z=0) = 1<br>\n",
    "==> P(X=38) != P(X=38 | Y=25/3) ==> X and Y are dependent"
   ]
  },
  {
   "cell_type": "markdown",
   "metadata": {},
   "source": [
    "#### 4.B\n",
    "Can you define random variables that are independent and so that Cov(X,Y) > 0?<br>\n",
    "Explain.\n"
   ]
  },
  {
   "cell_type": "markdown",
   "metadata": {},
   "source": [
    "***Answer:***"
   ]
  },
  {
   "cell_type": "markdown",
   "metadata": {},
   "source": [
    "\n",
    "\n",
    "No, because the covariance for two independent random variables is zero\n",
    "\n",
    "$ \n",
    "\\\\ Cov(X,Y) = E[(X-\\mu_x)(Y-\\mu_y)] = \n",
    "\\\\ = E[XY - X\\mu_y - Y\\mu_x + \\mu_x\\mu_y] = \n",
    "\\\\ = E[XY] - E[X\\mu_y] - E[Y\\mu_x] + E[\\mu_x\\mu_y] = \n",
    "\\\\ = E[XY] - \\mu_yE[X] - \\mu_xE[Y] + \\mu_x\\mu_y = \n",
    "\\\\ = E[XY] - \\mu_y\\mu_x - \\mu_x\\mu_y + \\mu_x\\mu_y = \n",
    "\\\\ = E[XY] - \\mu_y\\mu_x = [ \\text{for independent variables: } E[XY] = E[X]E[Y] = \\mu_x\\mu_y]\n",
    "\\\\ \\mu_y\\mu_x - \\mu_y\\mu_x = 0\n",
    "$"
   ]
  },
  {
   "cell_type": "markdown",
   "metadata": {},
   "source": [
    "### Question 5 - Convolutions"
   ]
  },
  {
   "cell_type": "markdown",
   "metadata": {},
   "source": [
    "#### 5.A\n",
    "Write a program, `Q = NFoldConv(P , n)`, that takes as input:\n",
    "* A distribution, P, of a random variable that takes finitely many integer values\n",
    "* An integer n\n",
    "\n",
    "and produces the distribution, Q, of the sum of n independent repeats of random variables, each of which has the distribution P."
   ]
  },
  {
   "cell_type": "markdown",
   "metadata": {},
   "source": [
    "***Answer:***"
   ]
  },
  {
   "cell_type": "code",
   "execution_count": 278,
   "metadata": {},
   "outputs": [],
   "source": [
    "# We assume that the input of the distribution is given in a form of a dictionary P where, P['dis_V'] holds\n",
    "# distribution values and where P['dis_P'] holds the probability of each value\n",
    "\n",
    "def NFoldConv(P, n):\n",
    "    # Obtaining all values and probabilities out of the given distribution and repeating these values n times, essentially, cross product\n",
    "    values = np.array(list(product(P[\"dis_V\"], repeat = n)))\n",
    "    probabilities = np.array(list(product(P[\"dis_P\"], repeat = n)))\n",
    "   \n",
    "    # Obtaining all possible values and all possible probabilities for Q. i.e. all possible sums of values for summing n elements\n",
    "    valus_sum = values.sum(axis=1)\n",
    "    probabilities_product = np.product(probabilities, axis=1)\n",
    "    \n",
    "    # We must constructe a dataframe and define the columnns\n",
    "    results = list(zip(valus_sum,probabilities_product))\n",
    "    results_df = pd.DataFrame(results, columns=['Q_Values', \"Q_Probabilities\"])\n",
    "    \n",
    "    # We sum the probabilities of all instances per sum value\n",
    "    Q = results_df.groupby(\"Q_Values\")[\"Q_Probabilities\"].sum()\n",
    "    return Q"
   ]
  },
  {
   "cell_type": "markdown",
   "metadata": {},
   "source": [
    "#### 5.B\n",
    "Compute the distribution of the sum of the results of rolling a fair dice 8 times"
   ]
  },
  {
   "cell_type": "code",
   "execution_count": 147,
   "metadata": {},
   "outputs": [
    {
     "data": {
      "text/plain": [
       "<matplotlib.axes._subplots.AxesSubplot at 0x14559ef90>"
      ]
     },
     "execution_count": 147,
     "metadata": {},
     "output_type": "execute_result"
    },
    {
     "data": {
      "image/png": "[encoded data removed]",
      "text/plain": [
       "<Figure size 1440x720 with 1 Axes>"
      ]
     },
     "metadata": {
      "needs_background": "light"
     },
     "output_type": "display_data"
    }
   ],
   "source": [
    "##rewrite\n",
    "\n",
    "#Consider the following distribution of a fair dice\n",
    "P = {\n",
    "    \"dis_V\": [1 , 2, 3, 4, 5, 6],\n",
    "    \"dis_P\": [1/6, 1/6, 1/6, 1/6, 1/6, 1/6]\n",
    "    }\n",
    "\n",
    "Q = NFoldConv(P,8)\n",
    "Q.plot.bar(figsize=(20,10),title='Sum of the results of rolling a fair dice 8 times')\n",
    "# add x and y label\n",
    "\n",
    "# figure, ax = plt.subplots(figsize = (18,8))\n",
    "# ax.hist(Q)\n",
    "# plt.title('Senario 1')\n",
    "# plt.xlabel('RCU')\n",
    "# plt.ylabel('Frequency')\n",
    "# plt.legend()"
   ]
  },
  {
   "cell_type": "markdown",
   "metadata": {},
   "source": [
    "#### 5.C\n",
    "Assume that the price of a stock changes in any given day according to (in NIS):\n",
    "$$P=\\begin{pmatrix}\n",
    "-1 & 0 & 1 & 2 & 3 \\\\\n",
    "0.2 & 0.25 & 0.35 & 0.05 & 0.15\n",
    "\\end{pmatrix}$$\n",
    "\n",
    "1. What is the distribution of the change in stock after 2 consecutive days of (independent) changes? After 5 consecutive days? "
   ]
  },
  {
   "cell_type": "code",
   "execution_count": 284,
   "metadata": {},
   "outputs": [
    {
     "ename": "KeyError",
     "evalue": "'dis_V'",
     "output_type": "error",
     "traceback": [
      "\u001b[0;31m---------------------------------------------------------------------------\u001b[0m",
      "\u001b[0;31mKeyError\u001b[0m                                  Traceback (most recent call last)",
      "\u001b[0;32m/Library/Frameworks/Python.framework/Versions/3.7/lib/python3.7/site-packages/pandas/core/indexes/base.py\u001b[0m in \u001b[0;36mget_loc\u001b[0;34m(self, key, method, tolerance)\u001b[0m\n\u001b[1;32m   2896\u001b[0m             \u001b[0;32mtry\u001b[0m\u001b[0;34m:\u001b[0m\u001b[0;34m\u001b[0m\u001b[0;34m\u001b[0m\u001b[0m\n\u001b[0;32m-> 2897\u001b[0;31m                 \u001b[0;32mreturn\u001b[0m \u001b[0mself\u001b[0m\u001b[0;34m.\u001b[0m\u001b[0m_engine\u001b[0m\u001b[0;34m.\u001b[0m\u001b[0mget_loc\u001b[0m\u001b[0;34m(\u001b[0m\u001b[0mkey\u001b[0m\u001b[0;34m)\u001b[0m\u001b[0;34m\u001b[0m\u001b[0;34m\u001b[0m\u001b[0m\n\u001b[0m\u001b[1;32m   2898\u001b[0m             \u001b[0;32mexcept\u001b[0m \u001b[0mKeyError\u001b[0m\u001b[0;34m:\u001b[0m\u001b[0;34m\u001b[0m\u001b[0;34m\u001b[0m\u001b[0m\n",
      "\u001b[0;32mpandas/_libs/index.pyx\u001b[0m in \u001b[0;36mpandas._libs.index.IndexEngine.get_loc\u001b[0;34m()\u001b[0m\n",
      "\u001b[0;32mpandas/_libs/index.pyx\u001b[0m in \u001b[0;36mpandas._libs.index.IndexEngine.get_loc\u001b[0;34m()\u001b[0m\n",
      "\u001b[0;32mpandas/_libs/hashtable_class_helper.pxi\u001b[0m in \u001b[0;36mpandas._libs.hashtable.PyObjectHashTable.get_item\u001b[0;34m()\u001b[0m\n",
      "\u001b[0;32mpandas/_libs/hashtable_class_helper.pxi\u001b[0m in \u001b[0;36mpandas._libs.hashtable.PyObjectHashTable.get_item\u001b[0;34m()\u001b[0m\n",
      "\u001b[0;31mKeyError\u001b[0m: 'dis_V'",
      "\nDuring handling of the above exception, another exception occurred:\n",
      "\u001b[0;31mKeyError\u001b[0m                                  Traceback (most recent call last)",
      "\u001b[0;32m<ipython-input-284-ef445db5eea0>\u001b[0m in \u001b[0;36m<module>\u001b[0;34m\u001b[0m\n\u001b[1;32m      3\u001b[0m \u001b[0mN\u001b[0m \u001b[0;34m=\u001b[0m \u001b[0;34m[\u001b[0m\u001b[0;36m2\u001b[0m\u001b[0;34m,\u001b[0m\u001b[0;36m5\u001b[0m\u001b[0;34m]\u001b[0m\u001b[0;34m\u001b[0m\u001b[0;34m\u001b[0m\u001b[0m\n\u001b[1;32m      4\u001b[0m \u001b[0;32mfor\u001b[0m \u001b[0mn\u001b[0m \u001b[0;32min\u001b[0m \u001b[0mN\u001b[0m\u001b[0;34m:\u001b[0m\u001b[0;34m\u001b[0m\u001b[0;34m\u001b[0m\u001b[0m\n\u001b[0;32m----> 5\u001b[0;31m     \u001b[0mQ\u001b[0m \u001b[0;34m=\u001b[0m \u001b[0mNFoldConv\u001b[0m\u001b[0;34m(\u001b[0m\u001b[0mP\u001b[0m\u001b[0;34m,\u001b[0m\u001b[0mn\u001b[0m\u001b[0;34m)\u001b[0m\u001b[0;34m\u001b[0m\u001b[0;34m\u001b[0m\u001b[0m\n\u001b[0m\u001b[1;32m      6\u001b[0m     \u001b[0mplt\u001b[0m\u001b[0;34m.\u001b[0m\u001b[0mfigure\u001b[0m\u001b[0;34m(\u001b[0m\u001b[0;34m)\u001b[0m\u001b[0;34m\u001b[0m\u001b[0;34m\u001b[0m\u001b[0m\n\u001b[1;32m      7\u001b[0m     \u001b[0mplt\u001b[0m\u001b[0;34m.\u001b[0m\u001b[0mscatter\u001b[0m\u001b[0;34m(\u001b[0m\u001b[0mQ\u001b[0m\u001b[0;34m[\u001b[0m\u001b[0;34m\"vals\"\u001b[0m\u001b[0;34m]\u001b[0m\u001b[0;34m,\u001b[0m \u001b[0mQ\u001b[0m\u001b[0;34m[\u001b[0m\u001b[0;34m\"probs\"\u001b[0m\u001b[0;34m]\u001b[0m\u001b[0;34m)\u001b[0m\u001b[0;34m\u001b[0m\u001b[0;34m\u001b[0m\u001b[0m\n",
      "\u001b[0;32m<ipython-input-278-846c131a9834>\u001b[0m in \u001b[0;36mNFoldConv\u001b[0;34m(P, n)\u001b[0m\n\u001b[1;32m      4\u001b[0m \u001b[0;32mdef\u001b[0m \u001b[0mNFoldConv\u001b[0m\u001b[0;34m(\u001b[0m\u001b[0mP\u001b[0m\u001b[0;34m,\u001b[0m \u001b[0mn\u001b[0m\u001b[0;34m)\u001b[0m\u001b[0;34m:\u001b[0m\u001b[0;34m\u001b[0m\u001b[0;34m\u001b[0m\u001b[0m\n\u001b[1;32m      5\u001b[0m     \u001b[0;31m# Obtaining all values and probabilities out of the given distribution and repeating these values n times, essentially, cross product\u001b[0m\u001b[0;34m\u001b[0m\u001b[0;34m\u001b[0m\u001b[0;34m\u001b[0m\u001b[0m\n\u001b[0;32m----> 6\u001b[0;31m     \u001b[0mvalues\u001b[0m \u001b[0;34m=\u001b[0m \u001b[0mnp\u001b[0m\u001b[0;34m.\u001b[0m\u001b[0marray\u001b[0m\u001b[0;34m(\u001b[0m\u001b[0mlist\u001b[0m\u001b[0;34m(\u001b[0m\u001b[0mproduct\u001b[0m\u001b[0;34m(\u001b[0m\u001b[0mP\u001b[0m\u001b[0;34m[\u001b[0m\u001b[0;34m\"dis_V\"\u001b[0m\u001b[0;34m]\u001b[0m\u001b[0;34m,\u001b[0m \u001b[0mrepeat\u001b[0m \u001b[0;34m=\u001b[0m \u001b[0mn\u001b[0m\u001b[0;34m)\u001b[0m\u001b[0;34m)\u001b[0m\u001b[0;34m)\u001b[0m\u001b[0;34m\u001b[0m\u001b[0;34m\u001b[0m\u001b[0m\n\u001b[0m\u001b[1;32m      7\u001b[0m     \u001b[0mprobabilities\u001b[0m \u001b[0;34m=\u001b[0m \u001b[0mnp\u001b[0m\u001b[0;34m.\u001b[0m\u001b[0marray\u001b[0m\u001b[0;34m(\u001b[0m\u001b[0mlist\u001b[0m\u001b[0;34m(\u001b[0m\u001b[0mproduct\u001b[0m\u001b[0;34m(\u001b[0m\u001b[0mP\u001b[0m\u001b[0;34m[\u001b[0m\u001b[0;34m\"dis_P\"\u001b[0m\u001b[0;34m]\u001b[0m\u001b[0;34m,\u001b[0m \u001b[0mrepeat\u001b[0m \u001b[0;34m=\u001b[0m \u001b[0mn\u001b[0m\u001b[0;34m)\u001b[0m\u001b[0;34m)\u001b[0m\u001b[0;34m)\u001b[0m\u001b[0;34m\u001b[0m\u001b[0;34m\u001b[0m\u001b[0m\n\u001b[1;32m      8\u001b[0m \u001b[0;34m\u001b[0m\u001b[0m\n",
      "\u001b[0;32m/Library/Frameworks/Python.framework/Versions/3.7/lib/python3.7/site-packages/pandas/core/frame.py\u001b[0m in \u001b[0;36m__getitem__\u001b[0;34m(self, key)\u001b[0m\n\u001b[1;32m   2978\u001b[0m             \u001b[0;32mif\u001b[0m \u001b[0mself\u001b[0m\u001b[0;34m.\u001b[0m\u001b[0mcolumns\u001b[0m\u001b[0;34m.\u001b[0m\u001b[0mnlevels\u001b[0m \u001b[0;34m>\u001b[0m \u001b[0;36m1\u001b[0m\u001b[0;34m:\u001b[0m\u001b[0;34m\u001b[0m\u001b[0;34m\u001b[0m\u001b[0m\n\u001b[1;32m   2979\u001b[0m                 \u001b[0;32mreturn\u001b[0m \u001b[0mself\u001b[0m\u001b[0;34m.\u001b[0m\u001b[0m_getitem_multilevel\u001b[0m\u001b[0;34m(\u001b[0m\u001b[0mkey\u001b[0m\u001b[0;34m)\u001b[0m\u001b[0;34m\u001b[0m\u001b[0;34m\u001b[0m\u001b[0m\n\u001b[0;32m-> 2980\u001b[0;31m             \u001b[0mindexer\u001b[0m \u001b[0;34m=\u001b[0m \u001b[0mself\u001b[0m\u001b[0;34m.\u001b[0m\u001b[0mcolumns\u001b[0m\u001b[0;34m.\u001b[0m\u001b[0mget_loc\u001b[0m\u001b[0;34m(\u001b[0m\u001b[0mkey\u001b[0m\u001b[0;34m)\u001b[0m\u001b[0;34m\u001b[0m\u001b[0;34m\u001b[0m\u001b[0m\n\u001b[0m\u001b[1;32m   2981\u001b[0m             \u001b[0;32mif\u001b[0m \u001b[0mis_integer\u001b[0m\u001b[0;34m(\u001b[0m\u001b[0mindexer\u001b[0m\u001b[0;34m)\u001b[0m\u001b[0;34m:\u001b[0m\u001b[0;34m\u001b[0m\u001b[0;34m\u001b[0m\u001b[0m\n\u001b[1;32m   2982\u001b[0m                 \u001b[0mindexer\u001b[0m \u001b[0;34m=\u001b[0m \u001b[0;34m[\u001b[0m\u001b[0mindexer\u001b[0m\u001b[0;34m]\u001b[0m\u001b[0;34m\u001b[0m\u001b[0;34m\u001b[0m\u001b[0m\n",
      "\u001b[0;32m/Library/Frameworks/Python.framework/Versions/3.7/lib/python3.7/site-packages/pandas/core/indexes/base.py\u001b[0m in \u001b[0;36mget_loc\u001b[0;34m(self, key, method, tolerance)\u001b[0m\n\u001b[1;32m   2897\u001b[0m                 \u001b[0;32mreturn\u001b[0m \u001b[0mself\u001b[0m\u001b[0;34m.\u001b[0m\u001b[0m_engine\u001b[0m\u001b[0;34m.\u001b[0m\u001b[0mget_loc\u001b[0m\u001b[0;34m(\u001b[0m\u001b[0mkey\u001b[0m\u001b[0;34m)\u001b[0m\u001b[0;34m\u001b[0m\u001b[0;34m\u001b[0m\u001b[0m\n\u001b[1;32m   2898\u001b[0m             \u001b[0;32mexcept\u001b[0m \u001b[0mKeyError\u001b[0m\u001b[0;34m:\u001b[0m\u001b[0;34m\u001b[0m\u001b[0;34m\u001b[0m\u001b[0m\n\u001b[0;32m-> 2899\u001b[0;31m                 \u001b[0;32mreturn\u001b[0m \u001b[0mself\u001b[0m\u001b[0;34m.\u001b[0m\u001b[0m_engine\u001b[0m\u001b[0;34m.\u001b[0m\u001b[0mget_loc\u001b[0m\u001b[0;34m(\u001b[0m\u001b[0mself\u001b[0m\u001b[0;34m.\u001b[0m\u001b[0m_maybe_cast_indexer\u001b[0m\u001b[0;34m(\u001b[0m\u001b[0mkey\u001b[0m\u001b[0;34m)\u001b[0m\u001b[0;34m)\u001b[0m\u001b[0;34m\u001b[0m\u001b[0;34m\u001b[0m\u001b[0m\n\u001b[0m\u001b[1;32m   2900\u001b[0m         \u001b[0mindexer\u001b[0m \u001b[0;34m=\u001b[0m \u001b[0mself\u001b[0m\u001b[0;34m.\u001b[0m\u001b[0mget_indexer\u001b[0m\u001b[0;34m(\u001b[0m\u001b[0;34m[\u001b[0m\u001b[0mkey\u001b[0m\u001b[0;34m]\u001b[0m\u001b[0;34m,\u001b[0m \u001b[0mmethod\u001b[0m\u001b[0;34m=\u001b[0m\u001b[0mmethod\u001b[0m\u001b[0;34m,\u001b[0m \u001b[0mtolerance\u001b[0m\u001b[0;34m=\u001b[0m\u001b[0mtolerance\u001b[0m\u001b[0;34m)\u001b[0m\u001b[0;34m\u001b[0m\u001b[0;34m\u001b[0m\u001b[0m\n\u001b[1;32m   2901\u001b[0m         \u001b[0;32mif\u001b[0m \u001b[0mindexer\u001b[0m\u001b[0;34m.\u001b[0m\u001b[0mndim\u001b[0m \u001b[0;34m>\u001b[0m \u001b[0;36m1\u001b[0m \u001b[0;32mor\u001b[0m \u001b[0mindexer\u001b[0m\u001b[0;34m.\u001b[0m\u001b[0msize\u001b[0m \u001b[0;34m>\u001b[0m \u001b[0;36m1\u001b[0m\u001b[0;34m:\u001b[0m\u001b[0;34m\u001b[0m\u001b[0;34m\u001b[0m\u001b[0m\n",
      "\u001b[0;32mpandas/_libs/index.pyx\u001b[0m in \u001b[0;36mpandas._libs.index.IndexEngine.get_loc\u001b[0;34m()\u001b[0m\n",
      "\u001b[0;32mpandas/_libs/index.pyx\u001b[0m in \u001b[0;36mpandas._libs.index.IndexEngine.get_loc\u001b[0;34m()\u001b[0m\n",
      "\u001b[0;32mpandas/_libs/hashtable_class_helper.pxi\u001b[0m in \u001b[0;36mpandas._libs.hashtable.PyObjectHashTable.get_item\u001b[0;34m()\u001b[0m\n",
      "\u001b[0;32mpandas/_libs/hashtable_class_helper.pxi\u001b[0m in \u001b[0;36mpandas._libs.hashtable.PyObjectHashTable.get_item\u001b[0;34m()\u001b[0m\n",
      "\u001b[0;31mKeyError\u001b[0m: 'dis_V'"
     ]
    }
   ],
   "source": [
    "## rewrite\n",
    "P = pd.DataFrame(np.array([[-1,0,1,2,3], [0.2,0.25,0.35,0.05,0.15]]).T, columns=[\"vals\", \"probs\"])\n",
    "N = [2,5]\n",
    "for n in N:\n",
    "    Q = NFoldConv(P,n)\n",
    "    plt.figure()\n",
    "    plt.scatter(Q[\"vals\"], Q[\"probs\"])\n",
    "    plt.title(f\"PDF of change after {n} consecutive days\")\n",
    "    plt.xlabel(\"Values\")\n",
    "    plt.ylabel(\"Probability\")"
   ]
  },
  {
   "cell_type": "markdown",
   "metadata": {},
   "source": [
    "2. What is the probability that the stock has gained strictly more than 7NIS after 5 days? \u000b",
    "Has lost strictly more than 7NIS?"
   ]
  },
  {
   "cell_type": "code",
   "execution_count": 282,
   "metadata": {},
   "outputs": [],
   "source": [
    "##rewrite\n",
    "\n",
    "prob_more_than_7 = Q.loc[Q[\"vals\"] > 7, \"probs\"].sum()\n",
    "prob_less_than_minus_7 = Q.loc[Q[\"vals\"] < -7, \"probs\"].sum()\n",
    "print(f\"The probability that the stock has gained stricly more than 7NIS is {round(prob_more_than_7,2)}\")\n",
    "print(f\"The probability that the stock has lost stricly more than 7NIS is {prob_less_than_minus_7}\")"
   ]
  },
  {
   "cell_type": "markdown",
   "metadata": {},
   "source": [
    "### Question 6 - Poisson mode"
   ]
  },
  {
   "cell_type": "markdown",
   "metadata": {},
   "source": [
    "Let $X\\sim{}Poi(λ)$<br>\n",
    "#### 6.A\n",
    "Find the mode of X and prove your calculation."
   ]
  },
  {
   "cell_type": "markdown",
   "metadata": {},
   "source": [
    "***Answer:***"
   ]
  },
  {
   "cell_type": "markdown",
   "metadata": {},
   "source": [
    "Recall that the mode of a distibution is the most common value in the distribution.i.e, the value with the highest proability\n",
    "\n",
    "For Poisson distribution and a random variable $X$, consider:\n",
    "$$\\frac{P(X = k)}{P(X = k-1)} = \\frac{e^{-\\lambda}\\frac{\\lambda^k}{k!}}{e^{-\\lambda}\\frac{\\lambda^{k-1}}{(k-1)!}} = \\frac{\\lambda}{k}$$\n",
    "Then,\n",
    "$$P(X=k) = \\frac{\\lambda}{k} P(X= k-1)$$\n",
    "\n",
    "Case 1: for $k <\\lambda$\n",
    "\n",
    "$\\frac{\\lambda}{k} > 1$ then for any $k$, $P(X=k) > P(X=k-1) > P(X=k-2)$..., this means that the mode of $X$ is monotononicly increaes until $k>=\\lambda$\n",
    "\n",
    "Case 2: for $k = \\lambda$\n",
    "\n",
    "$\\frac{\\lambda}{k} = 1$ then for any $k$, $P(X=k) = P(X=k-1) = P(X=k-2)$..., the mode is $x$ and $x-1$\n",
    "\n",
    "Case 3: for $k > \\lambda$\n",
    "\n",
    "$\\frac{\\lambda}{k} < 1$ and $(x-1)!=\\lambda$ then $P(X=k) < P(X=k-1) < P(X=k-2)$ for any $k$, then $\\lambda$ is not an integer then the mode of $x = x-1 =  \\lfloor \\lambda \\rfloor$\n",
    "\n",
    "All together,\n",
    "\\begin{equation}\n",
    "\\\\mode(X) =\n",
    "\\begin{cases} \n",
    "      \\lambda - 1\\,and\\, \\lambda & \\text{if $\\lambda$ is integer}, \\\\\n",
    "      \\lfloor\\lambda\\rfloor & \\text{otherwise}\n",
    "   \\end{cases}\n",
    "\\end{equation}"
   ]
  },
  {
   "cell_type": "markdown",
   "metadata": {},
   "source": [
    "\n",
    "#### 6.B\n",
    "Plot the pdf of $X$ for $\\lambda=4, \\lambda=9.3, \\lambda=25.8$.<br>\n",
    "Show the following quantities on your plots:\n",
    "* The mode of $X$\n",
    "* The median of $X$\n",
    "* $\\mu(X)$"
   ]
  },
  {
   "cell_type": "markdown",
   "metadata": {},
   "source": [
    "***Answer:***"
   ]
  },
  {
   "cell_type": "code",
   "execution_count": 281,
   "metadata": {
    "scrolled": true
   },
   "outputs": [
    {
     "data": {
      "image/png": "[encoded data removed]",
      "text/plain": [
       "<Figure size 1440x1080 with 1 Axes>"
      ]
     },
     "metadata": {
      "needs_background": "light"
     },
     "output_type": "display_data"
    }
   ],
   "source": [
    "# Fixed randm values\n",
    "np.random.seed(222)\n",
    "\n",
    "# The array of lambdas\n",
    "lambdaArr = [4, 9.3, 25.8]\n",
    "\n",
    "# Setting up the figure\n",
    "plt.figure(figsize=(20, 15))\n",
    "plt.title('Plotting multiple Poission PDF distributions')\n",
    "plt.xlabel('Probability')\n",
    "plt.ylabel('Frequency') \n",
    "\n",
    "# Color list\n",
    "colors = ['red', 'green', 'blue', 'maroon','lightgreen', 'slategrey', 'orchid','olivedrab','aqua','pink','greenyellow','deepskyblue']\n",
    "\n",
    "# Fill up the array of datasets\n",
    "for i,l in enumerate(lambdaArr):\n",
    "    dataset[i] = np.random.poisson(lam=l, size=10000)\n",
    "\n",
    "# For each dataset, find the mean, mode, median and construct the histogram and visual requirnments\n",
    "for i in range(len(lambdaArr)):\n",
    "    data_mean =np.average(dataset[i])\n",
    "    data_mode = np.array(stats.mode(dataset[i]))[0][0]\n",
    "    data_median = np.median(dataset[i])\n",
    "    plt.text(10 * i, 2300, 'Mean:{0}\\nMedian:{1}\\nMode:{2}'.format(data_mean,data_median,data_mode),bbox=dict(facecolor=colors[i], alpha=0.1))\n",
    "    plt.hist(dataset[i], bins = 15, label=\"PDF for λ = {}\".format(lambdaArr[i]), color=colors[i],alpha = 0.5)\n",
    "    plt.axvline(data_mean, color=colors[i+3], linestyle='--', linewidth=2, label='Mean λ={}'.format(lambdaArr[i]))\n",
    "    plt.axvline(data_median, color=colors[i+6], linestyle='-', linewidth=2, label='Median λ={}'.format(lambdaArr[i]))\n",
    "    plt.axvline(data_mode, color=colors[i+9], linestyle=':', linewidth=2, label='Mode λ={}'.format(lambdaArr[i]))\n",
    "\n",
    "    \n",
    "# Display the graph   \n",
    "plt.legend()\n",
    "plt.show()"
   ]
  },
  {
   "cell_type": "code",
   "execution_count": null,
   "metadata": {},
   "outputs": [],
   "source": []
  }
 ],
 "metadata": {
  "kernelspec": {
   "display_name": "Python 3",
   "language": "python",
   "name": "python3"
  },
  "language_info": {
   "codemirror_mode": {
    "name": "ipython",
    "version": 3
   },
   "file_extension": ".py",
   "mimetype": "text/x-python",
   "name": "python",
   "nbconvert_exporter": "python",
   "pygments_lexer": "ipython3",
   "version": "3.7.4"
  }
 },
 "nbformat": 4,
 "nbformat_minor": 2
}
